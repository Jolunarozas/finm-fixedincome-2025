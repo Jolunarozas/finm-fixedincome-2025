{
 "cells": [
  {
   "cell_type": "markdown",
   "metadata": {},
   "source": [
    "# Final Exam - Open\n",
    "\n",
    "## FINM 37400 - 2025\n",
    "\n",
    "### UChicago Financial Mathematics\n",
    "\n",
    "* Mark Hendricks\n",
    "* hendricks@uchicago.edu\n",
    "\n",
    "Jose Luna \n",
    "\n",
    "Disclaimer: I used GitHub Copilot to improve and debug my functions."
   ]
  },
  {
   "cell_type": "markdown",
   "metadata": {},
   "source": [
    "***"
   ]
  },
  {
   "cell_type": "markdown",
   "metadata": {},
   "source": [
    "# Instructions"
   ]
  },
  {
   "cell_type": "markdown",
   "metadata": {},
   "source": [
    "## Please note the following:\n",
    "\n",
    "Points\n",
    "* You have `100` minutes to complete the exam.\n",
    "* For every minute late you submit the exam, you will lose one point.\n",
    "\n",
    "Rules\n",
    "* The exam is open-material, closed-communication.\n",
    "* You do not need to cite material from the course github repo - you are welcome to use the code posted there without citation.\n",
    "\n",
    "Advice\n",
    "* If you find any question to be unclear, state your interpretation and proceed. We will only answer questions of interpretation if there is a typo, error, etc.\n",
    "* The exam will be graded for partial credit."
   ]
  },
  {
   "cell_type": "markdown",
   "metadata": {},
   "source": [
    "## Data\n",
    "\n",
    "**All data files are found in the class github repo, in the `data` folder.**\n",
    "\n",
    "- For Section 1:\n",
    "    * No data file is needed.\n",
    "- for Section 2:\n",
    "    * `data/treasury_quotes_clean_2024-12-31.xlsx`, sheet `selected quotes`."
   ]
  },
  {
   "cell_type": "markdown",
   "metadata": {},
   "source": [
    "## Scoring\n",
    "\n",
    "| Problem | Points |\n",
    "|---------|--------|\n",
    "| 1       | 70     |\n",
    "| 2       | 30     |"
   ]
  },
  {
   "cell_type": "markdown",
   "metadata": {},
   "source": [
    "***"
   ]
  },
  {
   "cell_type": "markdown",
   "metadata": {},
   "source": [
    "## Submitting your Exam"
   ]
  },
  {
   "cell_type": "markdown",
   "metadata": {},
   "source": [
    "Submission\n",
    "* You will upload your solution to the `Exam - Open` assignment on Canvas. \n",
    "* Submit a compressed, \"zipped\", folder containing all code according to the file structure below.\n",
    "* Name your submitted, zipped, folder `exam-open-LASTNAME-FIRSTNAME.zip`.\n",
    "* Be sure to **submit** on Canvas, not just **save** on Canvas.\n",
    "\n",
    "Your submission should **include all code and data used in your analysis** in the following folder structure.\n",
    "* We strongly prefer all submissions are structred this way, and it will improve grading accuracy for partial credit. \n",
    "* Still, if you're struggling to get this working in time, no worries; just structure as comfortable and submit **everything used** for your submission."
   ]
  },
  {
   "cell_type": "markdown",
   "metadata": {},
   "source": [
    "__Exam Submission Structure:__\n",
    "\n",
    "```plaintext\n",
    "exam-open-LASTNAME-FIRSTNAME.zip/\n",
    "│── exam-open.ipynb\n",
    "│── data/\n",
    "│   ├── example_data.csv\n",
    "│── modules/\n",
    "│   ├── my_functions.py"
   ]
  },
  {
   "cell_type": "markdown",
   "metadata": {},
   "source": [
    "### Validating your folder structure\n",
    "\n",
    "The next cell tests that you have this folder structure implemented."
   ]
  },
  {
   "cell_type": "code",
   "execution_count": 23,
   "metadata": {},
   "outputs": [
    {
     "name": "stdout",
     "output_type": "stream",
     "text": [
      "Warning: 'example_data.csv' not found. Ensure it's in the correct directory.\n"
     ]
    }
   ],
   "source": [
    "from pathlib import Path\n",
    "import sys\n",
    "import pandas as pd\n",
    "\n",
    "# Get the directory of the notebook (assumes Jupyter Notebook is always used)\n",
    "BASE_DIR = Path().resolve()\n",
    "\n",
    "# Define paths for data and modules\n",
    "DATA_DIR = BASE_DIR / \"data\"\n",
    "MODULES_DIR = BASE_DIR / \"modules\"\n",
    "\n",
    "# Check if expected directories exist\n",
    "if not DATA_DIR.exists():\n",
    "    print(f\"Warning: Data directory '{DATA_DIR}' not found. Check your file structure.\")\n",
    "\n",
    "if not MODULES_DIR.exists():\n",
    "    print(f\"Warning: Modules directory '{MODULES_DIR}' not found. Check your file structure.\")\n",
    "\n",
    "# Ensure Python can import from the modules directory\n",
    "if str(MODULES_DIR) not in sys.path:\n",
    "    sys.path.append(str(MODULES_DIR))\n",
    "\n",
    "# Load exam data\n",
    "EXAMPLE_DATA_PATH = DATA_DIR / \"example_data.csv\"\n",
    "\n",
    "if EXAMPLE_DATA_PATH.exists():\n",
    "    example_data = pd.read_csv(EXAMPLE_DATA_PATH)\n",
    "else:\n",
    "    print(f\"Warning: '{EXAMPLE_DATA_PATH.name}' not found. Ensure it's in the correct directory.\")\n"
   ]
  },
  {
   "cell_type": "markdown",
   "metadata": {},
   "source": [
    "***"
   ]
  },
  {
   "cell_type": "markdown",
   "metadata": {},
   "source": [
    "# 1. The \"Steepener\" Trade\n",
    "\n",
    "A popular trade in 2024 was the 2s10s \"steepener\" trade, which was a trade designed to capture the changes in the slope of yield curve while being hedged to parallel shifts in it. In particular, the trade believes that the 2-year treasury yield is too high relative to the 10-year treasury yield. We will replicate this trade.\n",
    "\n",
    "`Initial date:` July 1st, 2024 (corresponding to $t=0$)\n",
    "\n",
    "__2-year Bond:__\n",
    "- `Time To Maturity:` 2 years\n",
    "- `Coupon Frequency:` semi-annual\n",
    "- `Coupon Rate:` 4%\n",
    "- `Annualized semi-annual YTM:` 4.74%\n",
    "\n",
    "__10-year Bond:__\n",
    "- `Time To Maturity:` 10 years\n",
    "- `Coupon Frequency:` semi-annual\n",
    "- `Coupon Rate:` 2%\n",
    "- `Annualized semi-annual YTM:` 4.44%\n",
    "\n",
    "__Note__: Assume that coupons are paid exactly at the $t=0.5, 1, 1.5, ...$ year marks. "
   ]
  },
  {
   "cell_type": "code",
   "execution_count": 1,
   "metadata": {},
   "outputs": [
    {
     "data": {
      "text/html": [
       "<div>\n",
       "<style scoped>\n",
       "    .dataframe tbody tr th:only-of-type {\n",
       "        vertical-align: middle;\n",
       "    }\n",
       "\n",
       "    .dataframe tbody tr th {\n",
       "        vertical-align: top;\n",
       "    }\n",
       "\n",
       "    .dataframe thead th {\n",
       "        text-align: right;\n",
       "    }\n",
       "</style>\n",
       "<table border=\"1\" class=\"dataframe\">\n",
       "  <thead>\n",
       "    <tr style=\"text-align: right;\">\n",
       "      <th></th>\n",
       "      <th>DATE0</th>\n",
       "      <th>YTM</th>\n",
       "      <th>CPNRATE</th>\n",
       "      <th>MATURITY</th>\n",
       "    </tr>\n",
       "  </thead>\n",
       "  <tbody>\n",
       "    <tr>\n",
       "      <th>2y_bond</th>\n",
       "      <td>2024-07-01</td>\n",
       "      <td>0.0474</td>\n",
       "      <td>0.04</td>\n",
       "      <td>2</td>\n",
       "    </tr>\n",
       "    <tr>\n",
       "      <th>10y_bond</th>\n",
       "      <td>2024-07-01</td>\n",
       "      <td>0.0444</td>\n",
       "      <td>0.02</td>\n",
       "      <td>10</td>\n",
       "    </tr>\n",
       "  </tbody>\n",
       "</table>\n",
       "</div>"
      ],
      "text/plain": [
       "               DATE0     YTM  CPNRATE  MATURITY\n",
       "2y_bond   2024-07-01  0.0474     0.04         2\n",
       "10y_bond  2024-07-01  0.0444     0.02        10"
      ]
     },
     "execution_count": 1,
     "metadata": {},
     "output_type": "execute_result"
    }
   ],
   "source": [
    "import pandas as pd\n",
    "import numpy as np\n",
    "import importlib\n",
    "\n",
    "import modules.Help_Functions as hf\n",
    "hf = importlib.reload(hf)\n",
    "\n",
    "data = {\n",
    "    \"DATE0\": [\"2024-07-01\", \"2024-07-01\"],\n",
    "    \"YTM\": [0.0474, 0.0444],\n",
    "    \"CPNRATE\": [0.04, 0.02],\n",
    "    \"MATURITY\": [2, 10]\n",
    "}\n",
    "index = [\"2y_bond\", \"10y_bond\"]\n",
    "\n",
    "summary = pd.DataFrame(data, index=index)\n",
    "summary"
   ]
  },
  {
   "cell_type": "markdown",
   "metadata": {},
   "source": [
    "### 1.1. (5pts)\n",
    "Based on the given information, report the dirty price of each bond as of $t=0$ assuming a face value of $100. Display your answer rounded to 4 decimal places."
   ]
  },
  {
   "cell_type": "code",
   "execution_count": 2,
   "metadata": {},
   "outputs": [
    {
     "data": {
      "text/html": [
       "<style type=\"text/css\">\n",
       "</style>\n",
       "<table id=\"T_14843\">\n",
       "  <thead>\n",
       "    <tr>\n",
       "      <th class=\"blank level0\" >&nbsp;</th>\n",
       "      <th id=\"T_14843_level0_col0\" class=\"col_heading level0 col0\" >Price</th>\n",
       "    </tr>\n",
       "  </thead>\n",
       "  <tbody>\n",
       "    <tr>\n",
       "      <th id=\"T_14843_level0_row0\" class=\"row_heading level0 row0\" >2y_bond</th>\n",
       "      <td id=\"T_14843_row0_col0\" class=\"data row0 col0\" >98.6037</td>\n",
       "    </tr>\n",
       "    <tr>\n",
       "      <th id=\"T_14843_level0_row1\" class=\"row_heading level0 row1\" >10y_bond</th>\n",
       "      <td id=\"T_14843_row1_col0\" class=\"data row1 col0\" >80.4684</td>\n",
       "    </tr>\n",
       "  </tbody>\n",
       "</table>\n"
      ],
      "text/plain": [
       "<pandas.io.formats.style.Styler at 0x201f5b64860>"
      ]
     },
     "execution_count": 2,
     "metadata": {},
     "output_type": "execute_result"
    }
   ],
   "source": [
    "summary.loc[\"2y_bond\", \"Price\"] = hf.price_treasury_ytm(summary.loc[\"2y_bond\", \"MATURITY\"],summary.loc[\"2y_bond\", \"YTM\"], summary.loc[\"2y_bond\", \"CPNRATE\"], freq=2)\n",
    "summary.loc[\"10y_bond\", \"Price\"] = hf.price_treasury_ytm(summary.loc[\"10y_bond\", \"MATURITY\"],summary.loc[\"10y_bond\", \"YTM\"], summary.loc[\"10y_bond\", \"CPNRATE\"], freq=2)\n",
    "\n",
    "summary[['Price']].style.format(\"{:.4f}\")"
   ]
  },
  {
   "cell_type": "markdown",
   "metadata": {},
   "source": [
    "### 1.2. (5pts)\n",
    "\n",
    "Report the modified duration and modified-dollar-duration for each bond. Calculate these modified duration values with respect to changes in the quoted semi-annual YTM. Display your answer rounded to 4 decimal places."
   ]
  },
  {
   "cell_type": "code",
   "execution_count": 3,
   "metadata": {},
   "outputs": [
    {
     "data": {
      "text/html": [
       "<style type=\"text/css\">\n",
       "</style>\n",
       "<table id=\"T_93773\">\n",
       "  <thead>\n",
       "    <tr>\n",
       "      <th class=\"blank level0\" >&nbsp;</th>\n",
       "      <th id=\"T_93773_level0_col0\" class=\"col_heading level0 col0\" >Mod_Duration</th>\n",
       "      <th id=\"T_93773_level0_col1\" class=\"col_heading level0 col1\" >Mod_dollar_Duration</th>\n",
       "    </tr>\n",
       "  </thead>\n",
       "  <tbody>\n",
       "    <tr>\n",
       "      <th id=\"T_93773_level0_row0\" class=\"row_heading level0 row0\" >2y_bond</th>\n",
       "      <td id=\"T_93773_row0_col0\" class=\"data row0 col0\" >1.8965</td>\n",
       "      <td id=\"T_93773_row0_col1\" class=\"data row0 col1\" >187.0042</td>\n",
       "    </tr>\n",
       "    <tr>\n",
       "      <th id=\"T_93773_level0_row1\" class=\"row_heading level0 row1\" >10y_bond</th>\n",
       "      <td id=\"T_93773_row1_col0\" class=\"data row1 col0\" >8.7875</td>\n",
       "      <td id=\"T_93773_row1_col1\" class=\"data row1 col1\" >707.1151</td>\n",
       "    </tr>\n",
       "  </tbody>\n",
       "</table>\n"
      ],
      "text/plain": [
       "<pandas.io.formats.style.Styler at 0x201f65e0bc0>"
      ]
     },
     "execution_count": 3,
     "metadata": {},
     "output_type": "execute_result"
    }
   ],
   "source": [
    "summary.loc[\"2y_bond\", \"Duration\"] = hf.duration_closed_formula(summary.loc[\"2y_bond\", \"MATURITY\"],summary.loc[\"2y_bond\", \"YTM\"], summary.loc[\"2y_bond\", \"CPNRATE\"], freq=2)\n",
    "summary.loc[\"10y_bond\", \"Duration\"] = hf.duration_closed_formula(summary.loc[\"10y_bond\", \"MATURITY\"],summary.loc[\"10y_bond\", \"YTM\"], summary.loc[\"10y_bond\", \"CPNRATE\"], freq=2)\n",
    "\n",
    "summary.loc[\"2y_bond\", \"Mod_Duration\"] = summary.loc[\"2y_bond\", \"Duration\"] / (1 + summary.loc[\"2y_bond\", \"YTM\"]/2)\n",
    "summary.loc[\"10y_bond\", \"Mod_Duration\"] = summary.loc[\"10y_bond\", \"Duration\"] / (1 + summary.loc[\"10y_bond\", \"YTM\"]/2)\n",
    "\n",
    "summary.loc[\"2y_bond\", \"Mod_dollar_Duration\"] = summary.loc[\"2y_bond\", \"Mod_Duration\"] * summary.loc[\"2y_bond\", \"Price\"]\n",
    "summary.loc[\"10y_bond\", \"Mod_dollar_Duration\"] = summary.loc[\"10y_bond\", \"Mod_Duration\"] * summary.loc[\"10y_bond\", \"Price\"]\n",
    "\n",
    "summary[['Mod_Duration', 'Mod_dollar_Duration']].style.format(\"{:.4f}\")"
   ]
  },
  {
   "cell_type": "markdown",
   "metadata": {},
   "source": [
    "### 1.3. (15pts)\n",
    "We want to construct our portfolio in a modified-dollar-duration neutral fashion such that we are well hedged to parallel moves in the yield curve. \n",
    "\n",
    "Using the results from `1.2`, construct a portfolio aligned with the trade thesis that the YTM spread will converge, and go long one bond and short the other. \n",
    "\n",
    "Size the portfolio.\n",
    "* Your position has a $1,000 (modified duration) exposure to a symmetric 1 basis-point convergence in the YTM spread.\n",
    "* Assume the spread converges evenly, with 0.5bp convergence on each side.\n",
    "* We assume no leverage is used. \n",
    "\n",
    "Report your position in each bond as:\n",
    "* the notional amount.\n",
    "* the market value.\n",
    "* the number of bond contracts (assuming each contract has a face/par value of $100).\n",
    "\n",
    "Display your answers rounded to the nearest integer."
   ]
  },
  {
   "cell_type": "code",
   "execution_count": 91,
   "metadata": {},
   "outputs": [
    {
     "data": {
      "text/html": [
       "<style type=\"text/css\">\n",
       "</style>\n",
       "<table id=\"T_e0f65\">\n",
       "  <thead>\n",
       "    <tr>\n",
       "      <th class=\"blank level0\" >&nbsp;</th>\n",
       "      <th id=\"T_e0f65_level0_col0\" class=\"col_heading level0 col0\" >Contracts</th>\n",
       "      <th id=\"T_e0f65_level0_col1\" class=\"col_heading level0 col1\" >Notional</th>\n",
       "      <th id=\"T_e0f65_level0_col2\" class=\"col_heading level0 col2\" >Mkt_Value</th>\n",
       "    </tr>\n",
       "  </thead>\n",
       "  <tbody>\n",
       "    <tr>\n",
       "      <th id=\"T_e0f65_level0_row0\" class=\"row_heading level0 row0\" >2y_bond</th>\n",
       "      <td id=\"T_e0f65_row0_col0\" class=\"data row0 col0\" >53,474.7222</td>\n",
       "      <td id=\"T_e0f65_row0_col1\" class=\"data row0 col1\" >5,347,472.2156</td>\n",
       "      <td id=\"T_e0f65_row0_col2\" class=\"data row0 col2\" >5,272,805.4382</td>\n",
       "    </tr>\n",
       "    <tr>\n",
       "      <th id=\"T_e0f65_level0_row1\" class=\"row_heading level0 row1\" >10y_bond</th>\n",
       "      <td id=\"T_e0f65_row1_col0\" class=\"data row1 col0\" >-14,141.9688</td>\n",
       "      <td id=\"T_e0f65_row1_col1\" class=\"data row1 col1\" >-1,414,196.8800</td>\n",
       "      <td id=\"T_e0f65_row1_col2\" class=\"data row1 col2\" >-1,137,981.1787</td>\n",
       "    </tr>\n",
       "  </tbody>\n",
       "</table>\n"
      ],
      "text/plain": [
       "<pandas.io.formats.style.Styler at 0x1b35217a8d0>"
      ]
     },
     "execution_count": 91,
     "metadata": {},
     "output_type": "execute_result"
    }
   ],
   "source": [
    "long_key = \"2y_bond\"\n",
    "short_key = \"10y_bond\"\n",
    "\n",
    "Size = 1000/(0.01/100) # given 0.01% change in YTM spread, position with 1000 modified duration\n",
    "\n",
    "summary.loc[long_key, \"Contracts\"] = Size / summary.loc[long_key, \"Mod_dollar_Duration\"]\n",
    "summary.loc[short_key, \"Contracts\"] = -Size / summary.loc[short_key, \"Mod_dollar_Duration\"]\n",
    "summary.loc[long_key, \"Notional\"] = summary.loc[long_key, \"Contracts\"] * 100\n",
    "summary.loc[short_key, \"Notional\"] = summary.loc[short_key, \"Contracts\"] * 100\n",
    "summary.loc[long_key, \"Mkt_Value\"] = summary.loc[long_key, \"Contracts\"] * summary.loc[long_key, \"Price\"]\n",
    "summary.loc[short_key, \"Mkt_Value\"] = summary.loc[short_key, \"Contracts\"] * summary.loc[short_key, \"Price\"]\n",
    "\n",
    "summary[['Contracts', 'Notional', 'Mkt_Value']].style.format(\"{:,.4f}\")"
   ]
  },
  {
   "cell_type": "markdown",
   "metadata": {},
   "source": [
    "### 1.4. (10pts)\n",
    "\n",
    "Assume we are now at $t=0.05$, and the bond yields have now moved.\n",
    "\n",
    "__2-year Bond:__\n",
    "- `Annualized semi-annual YTM:` 4.32%\n",
    "\n",
    "__10-year Bond:__\n",
    "- `Annualized semi-annual YTM:` 4.14%\n",
    "\n",
    "For each bond, report the new dirty price and clean price. Display your answer rounded to 4 decimal places."
   ]
  },
  {
   "cell_type": "code",
   "execution_count": 92,
   "metadata": {},
   "outputs": [
    {
     "data": {
      "text/html": [
       "<style type=\"text/css\">\n",
       "</style>\n",
       "<table id=\"T_5d61e\">\n",
       "  <thead>\n",
       "    <tr>\n",
       "      <th class=\"blank level0\" >&nbsp;</th>\n",
       "      <th id=\"T_5d61e_level0_col0\" class=\"col_heading level0 col0\" >Clean_price</th>\n",
       "      <th id=\"T_5d61e_level0_col1\" class=\"col_heading level0 col1\" >Acc_interest</th>\n",
       "      <th id=\"T_5d61e_level0_col2\" class=\"col_heading level0 col2\" >Dirty_price</th>\n",
       "    </tr>\n",
       "  </thead>\n",
       "  <tbody>\n",
       "    <tr>\n",
       "      <th id=\"T_5d61e_level0_row0\" class=\"row_heading level0 row0\" >2y_bond</th>\n",
       "      <td id=\"T_5d61e_row0_col0\" class=\"data row0 col0\" >99.6058</td>\n",
       "      <td id=\"T_5d61e_row0_col1\" class=\"data row0 col1\" >0.2000</td>\n",
       "      <td id=\"T_5d61e_row0_col2\" class=\"data row0 col2\" >99.8058</td>\n",
       "    </tr>\n",
       "    <tr>\n",
       "      <th id=\"T_5d61e_level0_row1\" class=\"row_heading level0 row1\" >10y_bond</th>\n",
       "      <td id=\"T_5d61e_row1_col0\" class=\"data row1 col0\" >82.7910</td>\n",
       "      <td id=\"T_5d61e_row1_col1\" class=\"data row1 col1\" >0.1000</td>\n",
       "      <td id=\"T_5d61e_row1_col2\" class=\"data row1 col2\" >82.8910</td>\n",
       "    </tr>\n",
       "  </tbody>\n",
       "</table>\n"
      ],
      "text/plain": [
       "<pandas.io.formats.style.Styler at 0x1b352176f60>"
      ]
     },
     "execution_count": 92,
     "metadata": {},
     "output_type": "execute_result"
    }
   ],
   "source": [
    "summary.loc[\"2y_bond\", \"New_YTM\"] = 4.32/100\n",
    "summary.loc[\"10y_bond\", \"New_YTM\"] = 4.14/100\n",
    "\n",
    "t = 0.05\n",
    "\n",
    "summary.loc[\"2y_bond\", \"Clean_price\"] = hf.price_treasury_ytm(summary.loc[\"2y_bond\", \"MATURITY\"]-t,summary.loc[\"2y_bond\", \"New_YTM\"], summary.loc[\"2y_bond\", \"CPNRATE\"], freq=2)\n",
    "summary.loc[\"10y_bond\", \"Clean_price\"] = hf.price_treasury_ytm(summary.loc[\"10y_bond\", \"MATURITY\"]-t,summary.loc[\"10y_bond\", \"New_YTM\"], summary.loc[\"10y_bond\", \"CPNRATE\"], freq=2)\n",
    "summary.loc[\"2y_bond\", \"Acc_interest\"] = (summary.loc[\"2y_bond\", \"CPNRATE\"]*100/2)*(t/0.5)\n",
    "summary.loc[\"10y_bond\", \"Acc_interest\"] = (summary.loc[\"10y_bond\", \"CPNRATE\"]*100/2)*(t/0.5)\n",
    "summary.loc[\"2y_bond\", \"Dirty_price\"] = summary.loc[\"2y_bond\", \"Clean_price\"] + summary.loc[\"2y_bond\", \"Acc_interest\"]\n",
    "summary.loc[\"10y_bond\", \"Dirty_price\"] = summary.loc[\"10y_bond\", \"Clean_price\"] + summary.loc[\"10y_bond\", \"Acc_interest\"]\n",
    "\n",
    "summary[['Clean_price', 'Acc_interest', 'Dirty_price']].style.format(\"{:.4f}\")"
   ]
  },
  {
   "cell_type": "markdown",
   "metadata": {},
   "source": [
    "### 1.5. (10pts)\n",
    "\n",
    "Still at $t=0.05$, report the profit-and-loss **(PnL)** of each position, and also for the entire portfolio, using:\n",
    "* Duration (first-order YTM changes).\n",
    "\n",
    "Use the $t=0$ modified-dollar-duration values from part `1.2`. \n",
    "\n",
    "Display your answer rounded to 4 decimal places."
   ]
  },
  {
   "cell_type": "code",
   "execution_count": 93,
   "metadata": {},
   "outputs": [
    {
     "data": {
      "text/html": [
       "<style type=\"text/css\">\n",
       "</style>\n",
       "<table id=\"T_bac7f\">\n",
       "  <thead>\n",
       "    <tr>\n",
       "      <th class=\"blank level0\" >&nbsp;</th>\n",
       "      <th id=\"T_bac7f_level0_col0\" class=\"col_heading level0 col0\" >Mod_dollar_Duration</th>\n",
       "      <th id=\"T_bac7f_level0_col1\" class=\"col_heading level0 col1\" >Contracts</th>\n",
       "      <th id=\"T_bac7f_level0_col2\" class=\"col_heading level0 col2\" >Delta_YTM</th>\n",
       "      <th id=\"T_bac7f_level0_col3\" class=\"col_heading level0 col3\" >PnL</th>\n",
       "    </tr>\n",
       "  </thead>\n",
       "  <tbody>\n",
       "    <tr>\n",
       "      <th id=\"T_bac7f_level0_row0\" class=\"row_heading level0 row0\" >2y_bond</th>\n",
       "      <td id=\"T_bac7f_row0_col0\" class=\"data row0 col0\" >187.0042</td>\n",
       "      <td id=\"T_bac7f_row0_col1\" class=\"data row0 col1\" >53,474.7222</td>\n",
       "      <td id=\"T_bac7f_row0_col2\" class=\"data row0 col2\" >-0.0042</td>\n",
       "      <td id=\"T_bac7f_row0_col3\" class=\"data row0 col3\" >42,000.0000</td>\n",
       "    </tr>\n",
       "    <tr>\n",
       "      <th id=\"T_bac7f_level0_row1\" class=\"row_heading level0 row1\" >10y_bond</th>\n",
       "      <td id=\"T_bac7f_row1_col0\" class=\"data row1 col0\" >707.1151</td>\n",
       "      <td id=\"T_bac7f_row1_col1\" class=\"data row1 col1\" >-14,141.9688</td>\n",
       "      <td id=\"T_bac7f_row1_col2\" class=\"data row1 col2\" >-0.0030</td>\n",
       "      <td id=\"T_bac7f_row1_col3\" class=\"data row1 col3\" >-30,000.0000</td>\n",
       "    </tr>\n",
       "  </tbody>\n",
       "</table>\n"
      ],
      "text/plain": [
       "<pandas.io.formats.style.Styler at 0x1b352175b50>"
      ]
     },
     "execution_count": 93,
     "metadata": {},
     "output_type": "execute_result"
    }
   ],
   "source": [
    "summary[\"Delta_YTM\"] = summary[\"New_YTM\"] - summary[\"YTM\"]\n",
    "summary[\"PnL\"] = -summary[\"Mod_dollar_Duration\"] * summary[\"Delta_YTM\"] * summary[\"Contracts\"]\n",
    "\n",
    "summary[['Mod_dollar_Duration','Contracts','Delta_YTM', 'PnL']].style.format(\"{:,.4f}\")"
   ]
  },
  {
   "cell_type": "code",
   "execution_count": 94,
   "metadata": {},
   "outputs": [
    {
     "name": "stdout",
     "output_type": "stream",
     "text": [
      "Total PnL: 12,000.00\n"
     ]
    }
   ],
   "source": [
    "print(f\"Total PnL: {summary['PnL'].sum():,.2f}\")"
   ]
  },
  {
   "cell_type": "markdown",
   "metadata": {},
   "source": [
    "### 1.6 (10pts)\n",
    "\n",
    "Repeat `1.5`, but this time uapproximating the PnL using\n",
    "* Duration + convexity"
   ]
  },
  {
   "cell_type": "code",
   "execution_count": 95,
   "metadata": {},
   "outputs": [
    {
     "data": {
      "text/html": [
       "<style type=\"text/css\">\n",
       "</style>\n",
       "<table id=\"T_d636a\">\n",
       "  <thead>\n",
       "    <tr>\n",
       "      <th class=\"blank level0\" >&nbsp;</th>\n",
       "      <th id=\"T_d636a_level0_col0\" class=\"col_heading level0 col0\" >Mod_dollar_Duration</th>\n",
       "      <th id=\"T_d636a_level0_col1\" class=\"col_heading level0 col1\" >Dollar_Convexity</th>\n",
       "      <th id=\"T_d636a_level0_col2\" class=\"col_heading level0 col2\" >Contracts</th>\n",
       "      <th id=\"T_d636a_level0_col3\" class=\"col_heading level0 col3\" >Delta_YTM</th>\n",
       "      <th id=\"T_d636a_level0_col4\" class=\"col_heading level0 col4\" >PnL</th>\n",
       "      <th id=\"T_d636a_level0_col5\" class=\"col_heading level0 col5\" >PnL_2order</th>\n",
       "    </tr>\n",
       "  </thead>\n",
       "  <tbody>\n",
       "    <tr>\n",
       "      <th id=\"T_d636a_level0_row0\" class=\"row_heading level0 row0\" >2y_bond</th>\n",
       "      <td id=\"T_d636a_row0_col0\" class=\"data row0 col0\" >187.0042</td>\n",
       "      <td id=\"T_d636a_row0_col1\" class=\"data row0 col1\" >452.1336</td>\n",
       "      <td id=\"T_d636a_row0_col2\" class=\"data row0 col2\" >53,474.7222</td>\n",
       "      <td id=\"T_d636a_row0_col3\" class=\"data row0 col3\" >-0.0042</td>\n",
       "      <td id=\"T_d636a_row0_col4\" class=\"data row0 col4\" >42,000.0000</td>\n",
       "      <td id=\"T_d636a_row0_col5\" class=\"data row0 col5\" >42,213.2475</td>\n",
       "    </tr>\n",
       "    <tr>\n",
       "      <th id=\"T_d636a_level0_row1\" class=\"row_heading level0 row1\" >10y_bond</th>\n",
       "      <td id=\"T_d636a_row1_col0\" class=\"data row1 col0\" >707.1151</td>\n",
       "      <td id=\"T_d636a_row1_col1\" class=\"data row1 col1\" >7,006.7560</td>\n",
       "      <td id=\"T_d636a_row1_col2\" class=\"data row1 col2\" >-14,141.9688</td>\n",
       "      <td id=\"T_d636a_row1_col3\" class=\"data row1 col3\" >-0.0030</td>\n",
       "      <td id=\"T_d636a_row1_col4\" class=\"data row1 col4\" >-30,000.0000</td>\n",
       "      <td id=\"T_d636a_row1_col5\" class=\"data row1 col5\" >-30,445.9020</td>\n",
       "    </tr>\n",
       "  </tbody>\n",
       "</table>\n"
      ],
      "text/plain": [
       "<pandas.io.formats.style.Styler at 0x1b352176d20>"
      ]
     },
     "execution_count": 95,
     "metadata": {},
     "output_type": "execute_result"
    }
   ],
   "source": [
    "summary.loc[\"2y_bond\", \"Convexity\"] = hf.bond_convexity(summary.loc[\"2y_bond\", \"MATURITY\"],summary.loc[\"2y_bond\", \"YTM\"], summary.loc[\"2y_bond\", \"CPNRATE\"], freq=2)\n",
    "summary.loc[\"10y_bond\", \"Convexity\"] = hf.bond_convexity(summary.loc[\"10y_bond\", \"MATURITY\"],summary.loc[\"10y_bond\", \"YTM\"], summary.loc[\"10y_bond\", \"CPNRATE\"], freq=2)\n",
    "\n",
    "summary[\"Dollar_Convexity\"] = summary[\"Price\"] * summary[\"Convexity\"]\n",
    "\n",
    "\n",
    "summary[\"PnL_2order\"] = (\n",
    "    - summary[\"Mod_dollar_Duration\"] * summary[\"Delta_YTM\"] * summary[\"Contracts\"]\n",
    "    + 0.5 * summary[\"Dollar_Convexity\"] * (summary[\"Delta_YTM\"] ** 2) * summary[\"Contracts\"]\n",
    ")\n",
    "\n",
    "summary[['Mod_dollar_Duration', 'Dollar_Convexity','Contracts','Delta_YTM', 'PnL', 'PnL_2order']].style.format(\"{:,.4f}\")"
   ]
  },
  {
   "cell_type": "code",
   "execution_count": 96,
   "metadata": {},
   "outputs": [
    {
     "name": "stdout",
     "output_type": "stream",
     "text": [
      "Total PnL with convexity: 11,767.35\n"
     ]
    }
   ],
   "source": [
    "print(f\"Total PnL with convexity: {summary['PnL_2order'].sum():,.2f}\")"
   ]
  },
  {
   "cell_type": "markdown",
   "metadata": {},
   "source": [
    "### 1.7. (5pts)\n",
    "\n",
    "Repeat `1.5`, but this time calculating the PnL via\n",
    "* full repricing (using your pricing results from part `1.4`.)\n",
    "\n",
    "Display the comparison of the PnL across the three methods of `1.5`, `1.6`, and `1.7`."
   ]
  },
  {
   "cell_type": "code",
   "execution_count": 101,
   "metadata": {},
   "outputs": [
    {
     "data": {
      "text/html": [
       "<style type=\"text/css\">\n",
       "</style>\n",
       "<table id=\"T_a063f\">\n",
       "  <thead>\n",
       "    <tr>\n",
       "      <th class=\"blank level0\" >&nbsp;</th>\n",
       "      <th id=\"T_a063f_level0_col0\" class=\"col_heading level0 col0\" >Price</th>\n",
       "      <th id=\"T_a063f_level0_col1\" class=\"col_heading level0 col1\" >Clean_price</th>\n",
       "      <th id=\"T_a063f_level0_col2\" class=\"col_heading level0 col2\" >Contracts</th>\n",
       "      <th id=\"T_a063f_level0_col3\" class=\"col_heading level0 col3\" >PnL_Delta_Prices</th>\n",
       "    </tr>\n",
       "  </thead>\n",
       "  <tbody>\n",
       "    <tr>\n",
       "      <th id=\"T_a063f_level0_row0\" class=\"row_heading level0 row0\" >2y_bond</th>\n",
       "      <td id=\"T_a063f_row0_col0\" class=\"data row0 col0\" >98.6037</td>\n",
       "      <td id=\"T_a063f_row0_col1\" class=\"data row0 col1\" >99.6058</td>\n",
       "      <td id=\"T_a063f_row0_col2\" class=\"data row0 col2\" >53,474.7222</td>\n",
       "      <td id=\"T_a063f_row0_col3\" class=\"data row0 col3\" >53,584.4765</td>\n",
       "    </tr>\n",
       "    <tr>\n",
       "      <th id=\"T_a063f_level0_row1\" class=\"row_heading level0 row1\" >10y_bond</th>\n",
       "      <td id=\"T_a063f_row1_col0\" class=\"data row1 col0\" >80.4684</td>\n",
       "      <td id=\"T_a063f_row1_col1\" class=\"data row1 col1\" >82.7910</td>\n",
       "      <td id=\"T_a063f_row1_col2\" class=\"data row1 col2\" >-14,141.9688</td>\n",
       "      <td id=\"T_a063f_row1_col3\" class=\"data row1 col3\" >-32,847.0707</td>\n",
       "    </tr>\n",
       "  </tbody>\n",
       "</table>\n"
      ],
      "text/plain": [
       "<pandas.io.formats.style.Styler at 0x1b352175df0>"
      ]
     },
     "execution_count": 101,
     "metadata": {},
     "output_type": "execute_result"
    }
   ],
   "source": [
    "summary[\"PnL_Delta_Prices\"] = (summary[\"Clean_price\"] - summary[\"Price\"])*summary[\"Contracts\"]\n",
    "\n",
    "summary[['Price', 'Clean_price', 'Contracts', 'PnL_Delta_Prices']].style.format(\"{:,.4f}\")"
   ]
  },
  {
   "cell_type": "code",
   "execution_count": 102,
   "metadata": {},
   "outputs": [
    {
     "name": "stdout",
     "output_type": "stream",
     "text": [
      "Total PnL with duration approx: 12,000.00\n",
      "Total PnL with convexity: 11,767.35\n",
      "Total PnL with prices changes: 20,737.41\n"
     ]
    }
   ],
   "source": [
    "print(f\"Total PnL with duration approx: {summary['PnL'].sum():,.2f}\")\n",
    "print(f\"Total PnL with convexity: {summary['PnL_2order'].sum():,.2f}\")\n",
    "print(f\"Total PnL with prices changes: {summary['PnL_Delta_Prices'].sum():,.2f}\")"
   ]
  },
  {
   "cell_type": "markdown",
   "metadata": {},
   "source": [
    "### 1.8 (5 pts)\n",
    "\n",
    "* What do the results from `1.6` capture that `1.5` does not, and why might this be important to consider?\n",
    "* For any change in the YTM spread, do we expect the first order P/L estimate to always underestimate or overestimate the second order P/L estimate? Explain your reasoning."
   ]
  },
  {
   "cell_type": "markdown",
   "metadata": {},
   "source": [
    "*Answers :*\n",
    "\n",
    "* In 1.6 we capture the second-order curvature  in the price-yield relationship, giving that duration (1.5) is only a linear approximation. If the YTM change is big, then the duration is not a good approximation, and additionally, 10y bond has a higher convexity than 2y, so it is more important take into account this second-order variation\n",
    "\n",
    "* The first-order P/L always underestimate the second order PnL, given that is a straight line (linear relationship), and the real price in second order is a convex function, so the linear approximation is always bellow the second-order"
   ]
  },
  {
   "cell_type": "markdown",
   "metadata": {},
   "source": [
    "### 1.9 (5pts)\n",
    "\n",
    "Name two things the results from `1.7` capture that `1.6` does not."
   ]
  },
  {
   "cell_type": "markdown",
   "metadata": {},
   "source": [
    "(1) All the others higher order effects, giving that 1.6 is a taylor approximation of second order, ignoring the higher factors. \n",
    "\n",
    "(2) Also, we are using the duration of the first period, ignoring the change of 0.05 years, which change the duration and convexity a little. \n",
    "\n",
    "In this case, the “full repricing” is always the best method if you have the actual yield curve and the bond’s cash flows"
   ]
  },
  {
   "cell_type": "markdown",
   "metadata": {},
   "source": [
    "***"
   ]
  },
  {
   "cell_type": "markdown",
   "metadata": {},
   "source": [
    "# 2. Extracting Curves"
   ]
  },
  {
   "cell_type": "markdown",
   "metadata": {},
   "source": [
    "Use the selected treasury quotes in the file, `treasury_quotes_clean_2024-12-31.xlsx`, using sheet `selected quotes`.\n",
    "\n",
    "* Market quotes are provided for treasury securities expiring approximately every six months over the next `7` years.\n",
    "* You are welcome to assume that they mature at exaclty six-year increments or to use the exact dates.\n",
    "* Consider the `price` column to represent the dirty mid price."
   ]
  },
  {
   "cell_type": "code",
   "execution_count": 2,
   "metadata": {},
   "outputs": [],
   "source": [
    "import pandas as pd\n",
    "import numpy as np\n",
    "import modules.Help_Functions as hf"
   ]
  },
  {
   "cell_type": "code",
   "execution_count": 5,
   "metadata": {},
   "outputs": [
    {
     "data": {
      "text/html": [
       "<div>\n",
       "<style scoped>\n",
       "    .dataframe tbody tr th:only-of-type {\n",
       "        vertical-align: middle;\n",
       "    }\n",
       "\n",
       "    .dataframe tbody tr th {\n",
       "        vertical-align: top;\n",
       "    }\n",
       "\n",
       "    .dataframe thead th {\n",
       "        text-align: right;\n",
       "    }\n",
       "</style>\n",
       "<table border=\"1\" class=\"dataframe\">\n",
       "  <thead>\n",
       "    <tr style=\"text-align: right;\">\n",
       "      <th></th>\n",
       "      <th>type</th>\n",
       "      <th>quote date</th>\n",
       "      <th>issue date</th>\n",
       "      <th>maturity date</th>\n",
       "      <th>ttm</th>\n",
       "      <th>accrual fraction</th>\n",
       "      <th>cpn rate</th>\n",
       "      <th>bid</th>\n",
       "      <th>ask</th>\n",
       "      <th>price</th>\n",
       "      <th>accrued int</th>\n",
       "      <th>dirty price</th>\n",
       "      <th>ytm</th>\n",
       "    </tr>\n",
       "    <tr>\n",
       "      <th>KYTREASNO</th>\n",
       "      <th></th>\n",
       "      <th></th>\n",
       "      <th></th>\n",
       "      <th></th>\n",
       "      <th></th>\n",
       "      <th></th>\n",
       "      <th></th>\n",
       "      <th></th>\n",
       "      <th></th>\n",
       "      <th></th>\n",
       "      <th></th>\n",
       "      <th></th>\n",
       "      <th></th>\n",
       "    </tr>\n",
       "  </thead>\n",
       "  <tbody>\n",
       "    <tr>\n",
       "      <th>208073</th>\n",
       "      <td>note</td>\n",
       "      <td>2024-12-31</td>\n",
       "      <td>2023-06-30</td>\n",
       "      <td>2025-06-30</td>\n",
       "      <td>0.495551</td>\n",
       "      <td>0</td>\n",
       "      <td>4.625</td>\n",
       "      <td>100.240638</td>\n",
       "      <td>100.250357</td>\n",
       "      <td>100.245498</td>\n",
       "      <td>0</td>\n",
       "      <td>100.245498</td>\n",
       "      <td>0.041613</td>\n",
       "    </tr>\n",
       "    <tr>\n",
       "      <th>208158</th>\n",
       "      <td>note</td>\n",
       "      <td>2024-12-31</td>\n",
       "      <td>2023-12-31</td>\n",
       "      <td>2025-12-31</td>\n",
       "      <td>0.999316</td>\n",
       "      <td>0</td>\n",
       "      <td>4.250</td>\n",
       "      <td>100.025370</td>\n",
       "      <td>100.044656</td>\n",
       "      <td>100.035013</td>\n",
       "      <td>0</td>\n",
       "      <td>100.035013</td>\n",
       "      <td>0.042172</td>\n",
       "    </tr>\n",
       "    <tr>\n",
       "      <th>208242</th>\n",
       "      <td>note</td>\n",
       "      <td>2024-12-31</td>\n",
       "      <td>2024-06-30</td>\n",
       "      <td>2026-06-30</td>\n",
       "      <td>1.494867</td>\n",
       "      <td>0</td>\n",
       "      <td>4.625</td>\n",
       "      <td>100.535515</td>\n",
       "      <td>100.566765</td>\n",
       "      <td>100.551140</td>\n",
       "      <td>0</td>\n",
       "      <td>100.551140</td>\n",
       "      <td>0.042566</td>\n",
       "    </tr>\n",
       "    <tr>\n",
       "      <th>208332</th>\n",
       "      <td>note</td>\n",
       "      <td>2024-12-31</td>\n",
       "      <td>2024-12-31</td>\n",
       "      <td>2026-12-31</td>\n",
       "      <td>1.998631</td>\n",
       "      <td>0</td>\n",
       "      <td>4.250</td>\n",
       "      <td>100.008215</td>\n",
       "      <td>100.016028</td>\n",
       "      <td>100.012122</td>\n",
       "      <td>0</td>\n",
       "      <td>100.012122</td>\n",
       "      <td>0.042469</td>\n",
       "    </tr>\n",
       "    <tr>\n",
       "      <th>207904</th>\n",
       "      <td>note</td>\n",
       "      <td>2024-12-31</td>\n",
       "      <td>2022-06-30</td>\n",
       "      <td>2027-06-30</td>\n",
       "      <td>2.494182</td>\n",
       "      <td>0</td>\n",
       "      <td>3.250</td>\n",
       "      <td>97.654701</td>\n",
       "      <td>97.685951</td>\n",
       "      <td>97.670326</td>\n",
       "      <td>0</td>\n",
       "      <td>97.670326</td>\n",
       "      <td>0.042520</td>\n",
       "    </tr>\n",
       "    <tr>\n",
       "      <th>207989</th>\n",
       "      <td>note</td>\n",
       "      <td>2024-12-31</td>\n",
       "      <td>2022-12-31</td>\n",
       "      <td>2027-12-31</td>\n",
       "      <td>2.997947</td>\n",
       "      <td>0</td>\n",
       "      <td>3.875</td>\n",
       "      <td>98.852192</td>\n",
       "      <td>98.887349</td>\n",
       "      <td>98.869770</td>\n",
       "      <td>0</td>\n",
       "      <td>98.869770</td>\n",
       "      <td>0.042838</td>\n",
       "    </tr>\n",
       "    <tr>\n",
       "      <th>208075</th>\n",
       "      <td>note</td>\n",
       "      <td>2024-12-31</td>\n",
       "      <td>2023-06-30</td>\n",
       "      <td>2028-06-30</td>\n",
       "      <td>3.496235</td>\n",
       "      <td>0</td>\n",
       "      <td>4.000</td>\n",
       "      <td>98.966035</td>\n",
       "      <td>99.009004</td>\n",
       "      <td>98.987520</td>\n",
       "      <td>0</td>\n",
       "      <td>98.987520</td>\n",
       "      <td>0.043197</td>\n",
       "    </tr>\n",
       "    <tr>\n",
       "      <th>208160</th>\n",
       "      <td>note</td>\n",
       "      <td>2024-12-31</td>\n",
       "      <td>2023-12-31</td>\n",
       "      <td>2028-12-31</td>\n",
       "      <td>4.000000</td>\n",
       "      <td>0</td>\n",
       "      <td>3.750</td>\n",
       "      <td>97.755138</td>\n",
       "      <td>97.802013</td>\n",
       "      <td>97.778576</td>\n",
       "      <td>0</td>\n",
       "      <td>97.778576</td>\n",
       "      <td>0.043617</td>\n",
       "    </tr>\n",
       "    <tr>\n",
       "      <th>208244</th>\n",
       "      <td>note</td>\n",
       "      <td>2024-12-31</td>\n",
       "      <td>2024-06-30</td>\n",
       "      <td>2029-06-30</td>\n",
       "      <td>4.495551</td>\n",
       "      <td>0</td>\n",
       "      <td>4.250</td>\n",
       "      <td>99.446447</td>\n",
       "      <td>99.493322</td>\n",
       "      <td>99.469884</td>\n",
       "      <td>0</td>\n",
       "      <td>99.469884</td>\n",
       "      <td>0.043856</td>\n",
       "    </tr>\n",
       "    <tr>\n",
       "      <th>208334</th>\n",
       "      <td>note</td>\n",
       "      <td>2024-12-31</td>\n",
       "      <td>2024-12-31</td>\n",
       "      <td>2029-12-31</td>\n",
       "      <td>4.999316</td>\n",
       "      <td>0</td>\n",
       "      <td>4.375</td>\n",
       "      <td>99.949764</td>\n",
       "      <td>99.957577</td>\n",
       "      <td>99.953671</td>\n",
       "      <td>0</td>\n",
       "      <td>99.953671</td>\n",
       "      <td>0.043865</td>\n",
       "    </tr>\n",
       "    <tr>\n",
       "      <th>208076</th>\n",
       "      <td>note</td>\n",
       "      <td>2024-12-31</td>\n",
       "      <td>2023-06-30</td>\n",
       "      <td>2030-06-30</td>\n",
       "      <td>5.494867</td>\n",
       "      <td>0</td>\n",
       "      <td>3.750</td>\n",
       "      <td>96.738021</td>\n",
       "      <td>96.780990</td>\n",
       "      <td>96.759505</td>\n",
       "      <td>0</td>\n",
       "      <td>96.759505</td>\n",
       "      <td>0.044244</td>\n",
       "    </tr>\n",
       "    <tr>\n",
       "      <th>208161</th>\n",
       "      <td>note</td>\n",
       "      <td>2024-12-31</td>\n",
       "      <td>2023-12-31</td>\n",
       "      <td>2030-12-31</td>\n",
       "      <td>5.998631</td>\n",
       "      <td>0</td>\n",
       "      <td>3.750</td>\n",
       "      <td>96.346481</td>\n",
       "      <td>96.393356</td>\n",
       "      <td>96.369918</td>\n",
       "      <td>0</td>\n",
       "      <td>96.369918</td>\n",
       "      <td>0.044474</td>\n",
       "    </tr>\n",
       "    <tr>\n",
       "      <th>208245</th>\n",
       "      <td>note</td>\n",
       "      <td>2024-12-31</td>\n",
       "      <td>2024-06-30</td>\n",
       "      <td>2031-06-30</td>\n",
       "      <td>6.494182</td>\n",
       "      <td>0</td>\n",
       "      <td>4.250</td>\n",
       "      <td>98.742518</td>\n",
       "      <td>98.789393</td>\n",
       "      <td>98.765956</td>\n",
       "      <td>0</td>\n",
       "      <td>98.765956</td>\n",
       "      <td>0.044749</td>\n",
       "    </tr>\n",
       "    <tr>\n",
       "      <th>208335</th>\n",
       "      <td>note</td>\n",
       "      <td>2024-12-31</td>\n",
       "      <td>2024-12-31</td>\n",
       "      <td>2031-12-31</td>\n",
       "      <td>6.997947</td>\n",
       "      <td>0</td>\n",
       "      <td>4.500</td>\n",
       "      <td>100.083247</td>\n",
       "      <td>100.098872</td>\n",
       "      <td>100.091059</td>\n",
       "      <td>0</td>\n",
       "      <td>100.091059</td>\n",
       "      <td>0.044864</td>\n",
       "    </tr>\n",
       "  </tbody>\n",
       "</table>\n",
       "</div>"
      ],
      "text/plain": [
       "           type quote date issue date maturity date       ttm  \\\n",
       "KYTREASNO                                                       \n",
       "208073     note 2024-12-31 2023-06-30    2025-06-30  0.495551   \n",
       "208158     note 2024-12-31 2023-12-31    2025-12-31  0.999316   \n",
       "208242     note 2024-12-31 2024-06-30    2026-06-30  1.494867   \n",
       "208332     note 2024-12-31 2024-12-31    2026-12-31  1.998631   \n",
       "207904     note 2024-12-31 2022-06-30    2027-06-30  2.494182   \n",
       "207989     note 2024-12-31 2022-12-31    2027-12-31  2.997947   \n",
       "208075     note 2024-12-31 2023-06-30    2028-06-30  3.496235   \n",
       "208160     note 2024-12-31 2023-12-31    2028-12-31  4.000000   \n",
       "208244     note 2024-12-31 2024-06-30    2029-06-30  4.495551   \n",
       "208334     note 2024-12-31 2024-12-31    2029-12-31  4.999316   \n",
       "208076     note 2024-12-31 2023-06-30    2030-06-30  5.494867   \n",
       "208161     note 2024-12-31 2023-12-31    2030-12-31  5.998631   \n",
       "208245     note 2024-12-31 2024-06-30    2031-06-30  6.494182   \n",
       "208335     note 2024-12-31 2024-12-31    2031-12-31  6.997947   \n",
       "\n",
       "           accrual fraction  cpn rate         bid         ask       price  \\\n",
       "KYTREASNO                                                                   \n",
       "208073                    0     4.625  100.240638  100.250357  100.245498   \n",
       "208158                    0     4.250  100.025370  100.044656  100.035013   \n",
       "208242                    0     4.625  100.535515  100.566765  100.551140   \n",
       "208332                    0     4.250  100.008215  100.016028  100.012122   \n",
       "207904                    0     3.250   97.654701   97.685951   97.670326   \n",
       "207989                    0     3.875   98.852192   98.887349   98.869770   \n",
       "208075                    0     4.000   98.966035   99.009004   98.987520   \n",
       "208160                    0     3.750   97.755138   97.802013   97.778576   \n",
       "208244                    0     4.250   99.446447   99.493322   99.469884   \n",
       "208334                    0     4.375   99.949764   99.957577   99.953671   \n",
       "208076                    0     3.750   96.738021   96.780990   96.759505   \n",
       "208161                    0     3.750   96.346481   96.393356   96.369918   \n",
       "208245                    0     4.250   98.742518   98.789393   98.765956   \n",
       "208335                    0     4.500  100.083247  100.098872  100.091059   \n",
       "\n",
       "           accrued int  dirty price       ytm  \n",
       "KYTREASNO                                      \n",
       "208073               0   100.245498  0.041613  \n",
       "208158               0   100.035013  0.042172  \n",
       "208242               0   100.551140  0.042566  \n",
       "208332               0   100.012122  0.042469  \n",
       "207904               0    97.670326  0.042520  \n",
       "207989               0    98.869770  0.042838  \n",
       "208075               0    98.987520  0.043197  \n",
       "208160               0    97.778576  0.043617  \n",
       "208244               0    99.469884  0.043856  \n",
       "208334               0    99.953671  0.043865  \n",
       "208076               0    96.759505  0.044244  \n",
       "208161               0    96.369918  0.044474  \n",
       "208245               0    98.765956  0.044749  \n",
       "208335               0   100.091059  0.044864  "
      ]
     },
     "execution_count": 5,
     "metadata": {},
     "output_type": "execute_result"
    }
   ],
   "source": [
    "filepath = 'data/treasury_quotes_clean_2024-12-31.xlsx'\n",
    "SHEET = 'selected quotes'\n",
    "quotes = pd.read_excel(filepath,sheet_name=SHEET).set_index('KYTREASNO')\n",
    "quotes"
   ]
  },
  {
   "cell_type": "markdown",
   "metadata": {},
   "source": [
    "### 2.1. (15pts)\n",
    "\n",
    "Bootstrap the spot curve. \n",
    "\n",
    "For maturity `T=5`, report\n",
    "* the discount factor\n",
    "* the semiannually-compounded discount rate\n",
    "* the continuously-compounded discount rate\n",
    "\n",
    "Round your answers to four decimal places."
   ]
  },
  {
   "cell_type": "code",
   "execution_count": null,
   "metadata": {},
   "outputs": [
    {
     "name": "stdout",
     "output_type": "stream",
     "text": [
      "Discount factors and spot rates for the 5y maturity:\n"
     ]
    },
    {
     "data": {
      "text/html": [
       "<style type=\"text/css\">\n",
       "</style>\n",
       "<table id=\"T_5ddc8\">\n",
       "  <thead>\n",
       "    <tr>\n",
       "      <th class=\"blank level0\" >&nbsp;</th>\n",
       "      <th id=\"T_5ddc8_level0_col0\" class=\"col_heading level0 col0\" >4.999316</th>\n",
       "    </tr>\n",
       "  </thead>\n",
       "  <tbody>\n",
       "    <tr>\n",
       "      <th id=\"T_5ddc8_level0_row0\" class=\"row_heading level0 row0\" >Discount_factor_spot</th>\n",
       "      <td id=\"T_5ddc8_row0_col0\" class=\"data row0 col0\" >0.8047</td>\n",
       "    </tr>\n",
       "    <tr>\n",
       "      <th id=\"T_5ddc8_level0_row1\" class=\"row_heading level0 row1\" >Spot_continuous_rate</th>\n",
       "      <td id=\"T_5ddc8_row1_col0\" class=\"data row1 col0\" >0.0435</td>\n",
       "    </tr>\n",
       "    <tr>\n",
       "      <th id=\"T_5ddc8_level0_row2\" class=\"row_heading level0 row2\" >Spot_semianual_rate</th>\n",
       "      <td id=\"T_5ddc8_row2_col0\" class=\"data row2 col0\" >0.0439</td>\n",
       "    </tr>\n",
       "  </tbody>\n",
       "</table>\n"
      ],
      "text/plain": [
       "<pandas.io.formats.style.Styler at 0x1b35087b5f0>"
      ]
     },
     "metadata": {},
     "output_type": "display_data"
    }
   ],
   "source": [
    "RESTRICT_YLD = True\n",
    "RESTRICT_TIPS = True\n",
    "\n",
    "RESTRICT_REDUNDANT = True\n",
    "\n",
    "data = hf.filter_treasuries(quotes, filter_yld = RESTRICT_YLD, filter_tips = RESTRICT_TIPS, drop_duplicate_maturities=RESTRICT_REDUNDANT)\n",
    "\n",
    "\n",
    "RESTRICT_DTS_MATURING = True\n",
    "\n",
    "CF = hf.filter_treasury_cashflows(hf.calc_cashflows(data, adj_end_month = True), filter_maturity_dates=True)\n",
    "# display(CF)\n",
    "\n",
    "prices = quotes.loc[data.index, \"dirty price\"]\n",
    "\n",
    "# Given that is a perfect squared matrix, we can use the inverse to solve the system of equations\n",
    "discount_dataframe = pd.DataFrame( np.linalg.inv(CF) @ prices, index=quotes[\"ttm\"].values, columns=[\"Discount_factor_spot\"])\n",
    "discount_dataframe[\"Spot_continuous_rate\"] = -np.log(discount_dataframe[\"Discount_factor_spot\"]) / discount_dataframe.index\n",
    "discount_dataframe[\"Spot_semianual_rate\"] =  hf.compound_rate(discount_dataframe[\"Spot_continuous_rate\"],None,2)\n",
    "\n",
    "print(\"Discount factors and spot rates for the 5y maturity:\")\n",
    "display(pd.DataFrame(discount_dataframe.iloc[5*2-1,:]).style.format(\"{:.4f}\"))"
   ]
  },
  {
   "cell_type": "markdown",
   "metadata": {},
   "source": [
    "### 2.2. (10pts)\n",
    "\n",
    "Use the bootstrapped spot curves to calculate the forward curves.\n",
    "\n",
    "For maturity $T_1=5 \\rightarrow T_2=5.5$, report\n",
    "* the forward discount factor.\n",
    "* the semiannually-compounded forward rate.\n",
    "* the continuously-compounded forward rate.\n",
    "\n",
    "Round your answers to four decimal places."
   ]
  },
  {
   "cell_type": "code",
   "execution_count": 18,
   "metadata": {},
   "outputs": [
    {
     "name": "stdout",
     "output_type": "stream",
     "text": [
      "Forward rates for the 5y maturity (from T1 = 5y to T2 = 5.5y):\n"
     ]
    },
    {
     "name": "stderr",
     "output_type": "stream",
     "text": [
      "C:\\Users\\josel\\AppData\\Local\\Temp\\ipykernel_20812\\2236388237.py:2: FutureWarning: ChainedAssignmentError: behaviour will change in pandas 3.0!\n",
      "You are setting values through chained assignment. Currently this works in certain cases, but when using Copy-on-Write (which will become the default behaviour in pandas 3.0) this will never work to update the original DataFrame or Series, because the intermediate object on which we are setting values will behave as a copy.\n",
      "A typical example is when you are setting values in a column of a DataFrame, like:\n",
      "\n",
      "df[\"col\"][row_indexer] = value\n",
      "\n",
      "Use `df.loc[row_indexer, \"col\"] = values` instead, to perform the assignment in a single step and ensure this keeps updating the original `df`.\n",
      "\n",
      "See the caveats in the documentation: https://pandas.pydata.org/pandas-docs/stable/user_guide/indexing.html#returning-a-view-versus-a-copy\n",
      "\n",
      "  discount_dataframe[\"Fwd_discount_factor\"].iloc[0] = discount_dataframe[\"Discount_factor_spot\"].iloc[0]\n"
     ]
    },
    {
     "data": {
      "text/html": [
       "<style type=\"text/css\">\n",
       "</style>\n",
       "<table id=\"T_7088e\">\n",
       "  <thead>\n",
       "    <tr>\n",
       "      <th class=\"blank level0\" >&nbsp;</th>\n",
       "      <th id=\"T_7088e_level0_col0\" class=\"col_heading level0 col0\" >4.999316</th>\n",
       "    </tr>\n",
       "  </thead>\n",
       "  <tbody>\n",
       "    <tr>\n",
       "      <th id=\"T_7088e_level0_row0\" class=\"row_heading level0 row0\" >Fwd_discount_factor</th>\n",
       "      <td id=\"T_7088e_row0_col0\" class=\"data row0 col0\" >0.9783</td>\n",
       "    </tr>\n",
       "    <tr>\n",
       "      <th id=\"T_7088e_level0_row1\" class=\"row_heading level0 row1\" >Fwd_continuous_rate</th>\n",
       "      <td id=\"T_7088e_row1_col0\" class=\"data row1 col0\" >0.0438</td>\n",
       "    </tr>\n",
       "    <tr>\n",
       "      <th id=\"T_7088e_level0_row2\" class=\"row_heading level0 row2\" >Fwd_semianual_rate</th>\n",
       "      <td id=\"T_7088e_row2_col0\" class=\"data row2 col0\" >0.0443</td>\n",
       "    </tr>\n",
       "  </tbody>\n",
       "</table>\n"
      ],
      "text/plain": [
       "<pandas.io.formats.style.Styler at 0x1b3508833b0>"
      ]
     },
     "metadata": {},
     "output_type": "display_data"
    }
   ],
   "source": [
    "discount_dataframe[\"Fwd_discount_factor\"] = discount_dataframe[\"Discount_factor_spot\"]/discount_dataframe[\"Discount_factor_spot\"].shift()\n",
    "discount_dataframe[\"Fwd_discount_factor\"].iloc[0] = discount_dataframe[\"Discount_factor_spot\"].iloc[0]\n",
    "\n",
    "discount_dataframe[\"Fwd_continuous_rate\"] = -np.log(discount_dataframe[\"Fwd_discount_factor\"]) / discount_dataframe.index.to_series().diff().mean()\n",
    "discount_dataframe[\"Fwd_semianual_rate\"] =  hf.compound_rate(discount_dataframe[\"Fwd_continuous_rate\"],None,2)\n",
    "\n",
    "print(\"Forward rates for the 5y maturity (from T1 = 5y to T2 = 5.5y):\")\n",
    "display(pd.DataFrame(discount_dataframe[[\"Fwd_discount_factor\",\"Fwd_continuous_rate\",\"Fwd_semianual_rate\"]].iloc[5*2-1,:]).style.format(\"{:.4f}\"))"
   ]
  },
  {
   "cell_type": "markdown",
   "metadata": {},
   "source": [
    "### 2.3. (5pts)\n",
    "\n",
    "For which maturity ($T_1$ and $T_2$) is the forward rate highest?"
   ]
  },
  {
   "cell_type": "code",
   "execution_count": 20,
   "metadata": {},
   "outputs": [
    {
     "data": {
      "text/plain": [
       "<Axes: title={'center': 'Spot and forward rates'}, xlabel='Maturity (years)', ylabel='Rate (%)'>"
      ]
     },
     "execution_count": 20,
     "metadata": {},
     "output_type": "execute_result"
    },
    {
     "data": {
      "image/png": "[encoded data removed]",
      "text/plain": [
       "<Figure size 640x480 with 1 Axes>"
      ]
     },
     "metadata": {},
     "output_type": "display_data"
    }
   ],
   "source": [
    "(discount_dataframe[[\"Spot_semianual_rate\", \"Fwd_semianual_rate\"]]*100).plot(title=\"Spot and forward rates\", ylabel=\"Rate (%)\", xlabel=\"Maturity (years)\")"
   ]
  },
  {
   "cell_type": "markdown",
   "metadata": {},
   "source": [
    "*Answer :* We can see that in T2 = 5.5y the forward rate is higher than the fwd rate in T1 = 5y. This is because between T1 and T2 the spot rate increased, which means that the forward rate is higher than the spot rate and higher than the forward rate in T1."
   ]
  },
  {
   "cell_type": "markdown",
   "metadata": {},
   "source": [
    "***"
   ]
  }
 ],
 "metadata": {
  "kernelspec": {
   "display_name": "base",
   "language": "python",
   "name": "python3"
  },
  "language_info": {
   "codemirror_mode": {
    "name": "ipython",
    "version": 3
   },
   "file_extension": ".py",
   "mimetype": "text/x-python",
   "name": "python",
   "nbconvert_exporter": "python",
   "pygments_lexer": "ipython3",
   "version": "3.12.4"
  }
 },
 "nbformat": 4,
 "nbformat_minor": 4
}
