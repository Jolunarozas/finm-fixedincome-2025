{
 "cells": [
  {
   "cell_type": "markdown",
   "id": "bac929b8",
   "metadata": {},
   "source": [
    "# Homework 3\n",
    "\n",
    "## FINM 37400 - 2025\n",
    "\n",
    "### UChicago Financial Mathematics\n",
    "\n",
    "* Mark Hendricks\n",
    "* hendricks@uchicago.edu"
   ]
  },
  {
   "cell_type": "markdown",
   "id": "7b03c2b8",
   "metadata": {},
   "source": [
    "***"
   ]
  },
  {
   "cell_type": "markdown",
   "id": "42647704",
   "metadata": {},
   "source": [
    "# 1 HBS Case: Fixed-Income Arbitrage in a Financial Crisis (C): Spread and Swap Spread in November 2008"
   ]
  },
  {
   "cell_type": "markdown",
   "id": "20d04ae8",
   "metadata": {},
   "source": [
    "## Simplification of the setup\n",
    "\n",
    "The date is Nov 4, 2008.\n",
    "\n",
    "**Treasury bond**\n",
    "* Suppose the Treasury bond matures exactly 30 years later, on Nov 4, 2038 rather than May 15, 2008. \n",
    "* The YTM of this freshly issued treasury is 4.193\\% with a semiannual coupon of 4.50\\%, same as is given in the case. (So we're just changing the maturity date to simplify things, but keeping the market data.)\n",
    "\n",
    "**Swap**\n",
    "* The fixed leg of the swap pays semiannually, with swap rate of 4.2560\\%, as given in the case.\n",
    "* The floating leg of the swap also pays semiannually--not quarterly--such that the payment dates are identical on both legs. Thus, it also resets the floating rate semiannually, not quarterly.\n",
    "* The floating rate of the swap equals the repo rate used in the trade. Thus, these two rates cancel in the financing of the trade. (No need to consider the TED spread.) "
   ]
  },
  {
   "cell_type": "markdown",
   "id": "b4dc60d2",
   "metadata": {},
   "source": [
    "## Case Clarifications\n",
    "\n",
    "\n",
    "### Duration Quotes\n",
    "Bond\n",
    "* Quote: Val01 of bond is .1746 per bp per $1 face value\n",
    "* Class terminology: Modified dollar duration is .1746 per $100 face value\n",
    "\n",
    "Swap\n",
    "* Quote: DV01 of swap is 1.7mm per 1 billion notional.\n",
    "* Class terminology: Modified dollar duration is 100(1.7/1000) per $100 face value.\n",
    "\n",
    "Thus, modified dollar duration for each per 100 face is\n",
    "* Bond = .1746\n",
    "* Swap = .1700\n",
    "\n",
    "### Hedge Ratio\n",
    "\n",
    "In figuring out the hedge ratio, they set up the hedge per dollar of face value. \n",
    "\n",
    "    *so Mills would need to buy face amount $0.97 billion*\n",
    "    \n",
    "No, this hedge should be for market value, not face amount given that the case is already using **modified** duration which includes the dirty price.\n",
    "    \n",
    "\n",
    "### Maturity Mismatch\n",
    "\n",
    "The maturity of the bond is August 2038, whereas the date is Nov 2008. Thus, the bond has less than 30 years to maturity, yet he is entering a 30-year swap. \n",
    "\n",
    "For simplicity, we imagine the bond is issued in Nov 2008 and thus has maturity of 30 years at the time of the case.\n",
    "\n",
    "However, then the case quotes for the Nov price and YTM of the bond no longer are accurate. Use one and adjust the other. Namely, we could...\n",
    "    * use the Nov 4 **YTM** quoted in the case, and re-adjust the the bond.\n",
    "    * use the Nov 4 **price** quoted in the case, and re-adjust the YTM.\n",
    "    \n",
    "We do the former, keep the quoted YTM, assume time-to-maturity of `30`, and recalculate the Nov 2008 price. (It is close to the quoted price in the case.)"
   ]
  },
  {
   "cell_type": "markdown",
   "id": "88f4ddfa",
   "metadata": {},
   "source": [
    "***"
   ]
  },
  {
   "cell_type": "code",
   "execution_count": 1,
   "id": "83f77dd8",
   "metadata": {},
   "outputs": [],
   "source": [
    "import numpy as np\n",
    "import pandas as pd\n",
    "\n",
    "\n",
    "def duration_closed_formula(tau, ytm, cpnrate=None, freq=2):\n",
    "\n",
    "    if cpnrate is None:\n",
    "        cpnrate = ytm\n",
    "        \n",
    "    y = ytm/freq\n",
    "    c = cpnrate/freq\n",
    "    T = tau * freq\n",
    "        \n",
    "    if cpnrate==ytm:\n",
    "        duration = (1+y)/y  * (1 - 1/(1+y)**T)\n",
    "        \n",
    "    else:\n",
    "        duration = (1+y)/y - (1+y+T*(c-y)) / (c*((1+y)**T-1)+y)\n",
    "\n",
    "    duration /= freq\n",
    "    \n",
    "    return duration"
   ]
  },
  {
   "cell_type": "markdown",
   "id": "2b81df67",
   "metadata": {},
   "source": [
    "## 1.0.\n",
    "\n",
    "Report the price of the 30-year T-bond in Nov 2008. Given the discussion about `Maturity Mismatch`, we are repricing the bond, so it will not exactly equal `105` as reported in the case."
   ]
  },
  {
   "cell_type": "markdown",
   "id": "7230a50a",
   "metadata": {},
   "source": [
    "Given that: $t_0 =$ Nov 4,2008 ; $T =$ Nov 4, 2038 ; YTM = 4.193\\% ; Semiannual coupon of 4.50\\%. Then, the price of the bond is \n",
    "\n",
    "$$ P = \\sum_{t = 1}^{60} \\frac{4.5/2}{(1+4.193\\%/2)^t} +  \\frac{100 + 4.5/2}{(1+4.193\\%/2)^{60}}  $$"
   ]
  },
  {
   "cell_type": "code",
   "execution_count": 2,
   "id": "14be54dc",
   "metadata": {},
   "outputs": [
    {
     "name": "stdout",
     "output_type": "stream",
     "text": [
      "105.21328175314193\n"
     ]
    }
   ],
   "source": [
    "y = 4.193/200\n",
    "c = 4.5/2\n",
    "T = range(1, 60, 1)\n",
    "\n",
    "p = 0\n",
    "\n",
    "for t in T:\n",
    "    p += (1/(1+y)**t)*c\n",
    "p += (1/(1+y)**60)*(c+100)\n",
    "\n",
    "print(p)"
   ]
  },
  {
   "cell_type": "markdown",
   "id": "48cc1866",
   "metadata": {},
   "source": [
    "## 1.1\n",
    "\n",
    "List the projected cashflows on May 4, 2009, exactly six months into the trade, on the first coupon and swap date.\n",
    "\n",
    "#### Clarification\n",
    "List these cashflows for face value of $1B, not the $0.97B noted in the case. As mentioned in \"Case Clarifications\", we will not use this number. Rather, we calculate our own hedge ratio in a problem below."
   ]
  },
  {
   "cell_type": "code",
   "execution_count": 3,
   "id": "494cc18c",
   "metadata": {},
   "outputs": [
    {
     "data": {
      "text/html": [
       "<div>\n",
       "<style scoped>\n",
       "    .dataframe tbody tr th:only-of-type {\n",
       "        vertical-align: middle;\n",
       "    }\n",
       "\n",
       "    .dataframe tbody tr th {\n",
       "        vertical-align: top;\n",
       "    }\n",
       "\n",
       "    .dataframe thead th {\n",
       "        text-align: right;\n",
       "    }\n",
       "</style>\n",
       "<table border=\"1\" class=\"dataframe\">\n",
       "  <thead>\n",
       "    <tr style=\"text-align: right;\">\n",
       "      <th></th>\n",
       "      <th>Coupon</th>\n",
       "      <th>Yield</th>\n",
       "      <th>Price</th>\n",
       "      <th>Duration</th>\n",
       "    </tr>\n",
       "  </thead>\n",
       "  <tbody>\n",
       "    <tr>\n",
       "      <th>Bond</th>\n",
       "      <td>0.045</td>\n",
       "      <td>0.04193</td>\n",
       "      <td>105.213282</td>\n",
       "      <td>17.46</td>\n",
       "    </tr>\n",
       "    <tr>\n",
       "      <th>Swap_Fixed</th>\n",
       "      <td>0.04256</td>\n",
       "      <td>NaN</td>\n",
       "      <td>100</td>\n",
       "      <td>17</td>\n",
       "    </tr>\n",
       "    <tr>\n",
       "      <th>Swap_Float</th>\n",
       "      <td>NaN</td>\n",
       "      <td>NaN</td>\n",
       "      <td>100</td>\n",
       "      <td>0.5</td>\n",
       "    </tr>\n",
       "    <tr>\n",
       "      <th>Repo</th>\n",
       "      <td>NaN</td>\n",
       "      <td>NaN</td>\n",
       "      <td>103.109016</td>\n",
       "      <td>0.5</td>\n",
       "    </tr>\n",
       "  </tbody>\n",
       "</table>\n",
       "</div>"
      ],
      "text/plain": [
       "             Coupon    Yield       Price Duration\n",
       "Bond          0.045  0.04193  105.213282    17.46\n",
       "Swap_Fixed  0.04256      NaN         100       17\n",
       "Swap_Float      NaN      NaN         100      0.5\n",
       "Repo            NaN      NaN  103.109016      0.5"
      ]
     },
     "metadata": {},
     "output_type": "display_data"
    }
   ],
   "source": [
    "data = pd.DataFrame(index=[\"Bond\", \"Swap_Fixed\", \"Swap_Float\", \"Repo\"], columns= [\"Coupon\", \"Yield\", \"Price\", \"Duration\"])\n",
    "haircut = 0.02\n",
    "\n",
    "data.loc[\"Bond\"] = [c*2/100, y*2, p, 17.46]\n",
    "data.loc[\"Swap_Fixed\"] = [4.2560/100, np.nan, 100, 17]\n",
    "data.loc[\"Swap_Float\"] = [np.nan, np.nan, 100, 0.5]\n",
    "data.loc[\"Repo\"] = [np.nan, np.nan, p*(1-haircut), 0.5]\n",
    "\n",
    "\n",
    "display(data)\n",
    "\n",
    "FV = 1000"
   ]
  },
  {
   "cell_type": "code",
   "execution_count": 4,
   "id": "a012a2ee",
   "metadata": {},
   "outputs": [
    {
     "name": "stdout",
     "output_type": "stream",
     "text": [
      "CF in six months......\n",
      "Notional of the Swap: 1000.00 millions\n",
      "Notional of the Bond: 1000.00 millions\n",
      "Pay fixed rate Swap: -0.213 millions\n",
      "Recieved a fixed rate from the bond : 0.225 millions\n",
      "Net payment: 0.012 millions\n"
     ]
    }
   ],
   "source": [
    "print(\"CF in six months......\")\n",
    "print(f\"Notional of the Swap: {FV:.2f} millions\")\n",
    "print(f\"Notional of the Bond: {FV:.2f} millions\")\n",
    "print(f\"Pay fixed rate Swap: {-data.loc[\"Swap_Fixed\", \"Coupon\"]*FV/200:.3f} millions\")\n",
    "print(f\"Recieved a fixed rate from the bond : {data.loc[\"Bond\", \"Coupon\"]*FV/200:.3f} millions\")\n",
    "print(f\"Net payment: {(-data.loc[\"Swap_Fixed\", \"Coupon\"]*FV/200 + data.loc[\"Bond\", \"Coupon\"]*FV/200):.3f} millions\")"
   ]
  },
  {
   "cell_type": "markdown",
   "id": "2076b2c9",
   "metadata": {},
   "source": [
    "## 1.2\n",
    "\n",
    "What is the duration of...\n",
    "* the T-bond\n",
    "* the swap\n",
    "\n",
    "Remember that...\n",
    "* the swap can be decomposed into a fixed-rate bond and a floating-rate note\n",
    "* a floating-rate note has duration equal to the time until the next reset. Thus, at initialization, it has duration equal to 0.5 years.\n",
    "\n",
    "Is the duration for the \"paying-fixed\" swap positive or negative? Is it bigger or smaller in magnitude than the T-bond?\n",
    "\n",
    "For this problem, calculate the Macauley duration and the dollar (Macauley) duration."
   ]
  },
  {
   "cell_type": "code",
   "execution_count": 5,
   "id": "2e3d7a8f",
   "metadata": {},
   "outputs": [
    {
     "data": {
      "text/html": [
       "<div>\n",
       "<style scoped>\n",
       "    .dataframe tbody tr th:only-of-type {\n",
       "        vertical-align: middle;\n",
       "    }\n",
       "\n",
       "    .dataframe tbody tr th {\n",
       "        vertical-align: top;\n",
       "    }\n",
       "\n",
       "    .dataframe thead th {\n",
       "        text-align: right;\n",
       "    }\n",
       "</style>\n",
       "<table border=\"1\" class=\"dataframe\">\n",
       "  <thead>\n",
       "    <tr style=\"text-align: right;\">\n",
       "      <th></th>\n",
       "      <th>Macauley_duration</th>\n",
       "      <th>Dollar_Duration</th>\n",
       "    </tr>\n",
       "  </thead>\n",
       "  <tbody>\n",
       "    <tr>\n",
       "      <th>Bond</th>\n",
       "      <td>17.083633</td>\n",
       "      <td>1797.4251</td>\n",
       "    </tr>\n",
       "    <tr>\n",
       "      <th>Swap_Fixed</th>\n",
       "      <td>17.212744</td>\n",
       "      <td>1721.274445</td>\n",
       "    </tr>\n",
       "    <tr>\n",
       "      <th>Swap_Float</th>\n",
       "      <td>0.500000</td>\n",
       "      <td>50.0</td>\n",
       "    </tr>\n",
       "    <tr>\n",
       "      <th>Repo</th>\n",
       "      <td>0.500000</td>\n",
       "      <td>51.554508</td>\n",
       "    </tr>\n",
       "  </tbody>\n",
       "</table>\n",
       "</div>"
      ],
      "text/plain": [
       "            Macauley_duration Dollar_Duration\n",
       "Bond                17.083633       1797.4251\n",
       "Swap_Fixed          17.212744     1721.274445\n",
       "Swap_Float           0.500000            50.0\n",
       "Repo                 0.500000       51.554508"
      ]
     },
     "metadata": {},
     "output_type": "display_data"
    }
   ],
   "source": [
    "data.loc[\"Bond\",\"Macauley_duration\"] = duration_closed_formula(30, data.loc[\"Bond\",\"Yield\"], data.loc[\"Bond\",\"Coupon\"], 2)\n",
    "data.loc[\"Swap_Fixed\",\"Macauley_duration\"] = duration_closed_formula(30,  data.loc[\"Swap_Fixed\",\"Coupon\"])\n",
    "data.loc[\"Swap_Float\",\"Macauley_duration\"] = 0.5\n",
    "data.loc[\"Repo\",\"Macauley_duration\"] = 0.5\n",
    "\n",
    "data[\"Dollar_Duration\"] = data[\"Macauley_duration\"] * data[\"Price\"]\n",
    "\n",
    "display(data[['Macauley_duration', 'Dollar_Duration']])\n"
   ]
  },
  {
   "cell_type": "code",
   "execution_count": 6,
   "id": "75ad52e6",
   "metadata": {},
   "outputs": [
    {
     "data": {
      "text/html": [
       "<div>\n",
       "<style scoped>\n",
       "    .dataframe tbody tr th:only-of-type {\n",
       "        vertical-align: middle;\n",
       "    }\n",
       "\n",
       "    .dataframe tbody tr th {\n",
       "        vertical-align: top;\n",
       "    }\n",
       "\n",
       "    .dataframe thead th {\n",
       "        text-align: right;\n",
       "    }\n",
       "</style>\n",
       "<table border=\"1\" class=\"dataframe\">\n",
       "  <thead>\n",
       "    <tr style=\"text-align: right;\">\n",
       "      <th></th>\n",
       "      <th>Macauley_duration</th>\n",
       "      <th>Dollar_Duration</th>\n",
       "    </tr>\n",
       "  </thead>\n",
       "  <tbody>\n",
       "    <tr>\n",
       "      <th>T Repo</th>\n",
       "      <td>16.583633</td>\n",
       "      <td>1745.870591</td>\n",
       "    </tr>\n",
       "    <tr>\n",
       "      <th>Swap</th>\n",
       "      <td>16.712744</td>\n",
       "      <td>1671.274445</td>\n",
       "    </tr>\n",
       "    <tr>\n",
       "      <th>Net_Position</th>\n",
       "      <td>-0.129111</td>\n",
       "      <td>74.596146</td>\n",
       "    </tr>\n",
       "  </tbody>\n",
       "</table>\n",
       "</div>"
      ],
      "text/plain": [
       "             Macauley_duration Dollar_Duration\n",
       "T Repo               16.583633     1745.870591\n",
       "Swap                 16.712744     1671.274445\n",
       "Net_Position         -0.129111       74.596146"
      ]
     },
     "execution_count": 6,
     "metadata": {},
     "output_type": "execute_result"
    }
   ],
   "source": [
    "net_position = pd.DataFrame(index=[\"T Repo\", \"Swap\"], columns= [\"Macauley_duration\", \"Dollar_Duration\"])\n",
    "net_position.loc[\"T Repo\"] = data.loc[\"Bond\", ['Macauley_duration', 'Dollar_Duration']] - data.loc[\"Repo\", ['Macauley_duration', 'Dollar_Duration']]\n",
    "net_position.loc[\"Swap\"] = data.loc[\"Swap_Fixed\", ['Macauley_duration', 'Dollar_Duration']] - data.loc[\"Swap_Float\", ['Macauley_duration', 'Dollar_Duration']]\n",
    "net_position.loc[\"Net_Position\"] = net_position.loc[\"T Repo\"] - net_position.loc[\"Swap\"]\n",
    "net_position"
   ]
  },
  {
   "cell_type": "markdown",
   "id": "924330cb",
   "metadata": {},
   "source": [
    "In this problem, the duration of the Swap is negative, because we are paying fixed rate. Now, because we are assumming that the Repo and the Floating Rate pays every 6 months, actually these cancels out. So, the net position is the same as the bond (reciving) and swap (paying)."
   ]
  },
  {
   "cell_type": "markdown",
   "id": "2b944cf6",
   "metadata": {},
   "source": [
    "## 1.3\n",
    "\n",
    "What hedge ratio should be used to balance the notional size of the Treasury bond with the notional size of the swap, such that it is a duration-neutral position?\n",
    "\n",
    "Specifically, if the trader enters the swap paying fixed on \\$500 million notional, how large of a position should they take in the Treasury bond?"
   ]
  },
  {
   "cell_type": "code",
   "execution_count": 7,
   "id": "74656246",
   "metadata": {},
   "outputs": [
    {
     "data": {
      "text/plain": [
       "0.9572728091202432"
      ]
     },
     "execution_count": 7,
     "metadata": {},
     "output_type": "execute_result"
    }
   ],
   "source": [
    "hedge = (net_position.loc[\"Swap\",\"Dollar_Duration\"]/net_position.loc[\"T Repo\",\"Dollar_Duration\"])\n",
    "hedge"
   ]
  },
  {
   "cell_type": "code",
   "execution_count": 8,
   "id": "ff8de7c1",
   "metadata": {},
   "outputs": [
    {
     "name": "stdout",
     "output_type": "stream",
     "text": [
      "Position in Swap: -500,000,000.00\n",
      "Position in Bond: 475,000,000.00\n"
     ]
    }
   ],
   "source": [
    "hedge = (net_position.loc[\"Swap\",\"Dollar_Duration\"]/net_position.loc[\"T Repo\",\"Dollar_Duration\"])\n",
    "hedge = 0.95\n",
    "position_swap = -500e6\n",
    "position_bond = -position_swap*hedge\n",
    "\n",
    "print(f\"Position in Swap: {position_swap:,.2f}\")\n",
    "print(f\"Position in Bond: {position_bond:,.2f}\")"
   ]
  },
  {
   "cell_type": "markdown",
   "id": "95877cb8",
   "metadata": {},
   "source": [
    "## 1.4\n",
    "\n",
    "Suppose it is May 4, 2009, exactly six months after putting the trade on.\n",
    "\n",
    "The spread is at -28 bps due to...\n",
    "* The YTM on a new 30-year bond has risen to 4.36\\%\n",
    "* The swap rate on a new 30-year swap has dropped to 4.08\\%\n",
    "\n",
    "Explain conceptually how this movement impacts the components of the trade."
   ]
  },
  {
   "cell_type": "markdown",
   "id": "801bb3b7",
   "metadata": {},
   "source": [
    "*Answer :*\n",
    "\n",
    "- In this case, because we're paying fixed rate in the swap, and the swap rate drops, we're losing money in the swap since we're paying more than the market rate.\n",
    "- On the other hand, we're holding a bond and the yield risen, so the price of the bond drops, we're losing money in the bond as well.\n",
    "- The floating rate of the swap and the repo cancel each other out, so we don't need to consider them in the delta position calculation."
   ]
  },
  {
   "cell_type": "markdown",
   "id": "c8bf1f3a",
   "metadata": {},
   "source": [
    "## 1.5\n",
    "\n",
    "Calculate the value of the position on May 4, 2009, immediately after the first coupon and swap payments and swap reset. \n",
    "\n",
    "* Calculate the revised price of the Treasury bond by assuming you can apply the (May 4) 30-year YTM as a discount rate to the 29.5 year bond. (We are just using this for a rough approximation. You know that good pricing would require a discount curve, but let's not get bogged down with that here.)\n",
    "\n",
    "\n",
    "* Calculate the value of the swap by decomposing it into a fixed-rate bond and a floating-rate bond.\n",
    "    * The 29.5 year fixed-rate leg is priced using the (May 4) 30-year swap rate as a discount rate.\n",
    "    * The floating-rate leg is priced at par given that floating-rate notes are par immediately after resets.\n",
    "    \n",
    "**Note**\n",
    "\n",
    "You are being asked to calculate these valuations using the exact formula between price, cashflows, and YTM discount rate. We are not simply approximating with duration, as we already know the position was set up with zero dollar duration.\n",
    "\n",
    "From the Discussion notebook, we have this formula expressing a bond's price as a function of the coupon, $c$, and the YTM, $y_j$.\n",
    "\n",
    "$\\begin{align}\n",
    "P_j(t,T,c) = \\sum_{i=1}^{n-1}\\frac{100\\left(\\frac{c}{2}\\right)}{\\left(1+\\frac{y_j}{2}\\right)^{2(T_i-t)}} + \\frac{100\\left(1+\\frac{c}{2}\\right)}{\\left(1+\\frac{y_j}{2}\\right)^{2(T-t)}}\n",
    "\\end{align}\n",
    "$"
   ]
  },
  {
   "cell_type": "code",
   "execution_count": 9,
   "id": "f5b53385",
   "metadata": {},
   "outputs": [
    {
     "name": "stdout",
     "output_type": "stream",
     "text": [
      "New price of the bond: 102.31\n",
      "Profit: -2.90\n"
     ]
    }
   ],
   "source": [
    "y = 4.36/200\n",
    "c = 4.5/2\n",
    "T = range(1, 59, 1)\n",
    "\n",
    "p_new = 0\n",
    "\n",
    "for t in T:\n",
    "    p_new += (1/(1+y)**t)*c\n",
    "p_new += (1/(1+y)**59)*(c+100)\n",
    "\n",
    "print(f\"New price of the bond: {p_new:.2f}\")\n",
    "print(f\"Profit: {p_new - data.loc['Bond', 'Price']:.2f}\")"
   ]
  },
  {
   "cell_type": "code",
   "execution_count": 10,
   "id": "144e1955",
   "metadata": {},
   "outputs": [
    {
     "name": "stdout",
     "output_type": "stream",
     "text": [
      "New price of the Swap: 103.00\n",
      "Profit: -3.00\n"
     ]
    }
   ],
   "source": [
    "y_swap = 4.08/200\n",
    "c_swap = 4.256/2\n",
    "T = range(1, 59, 1)\n",
    "\n",
    "p_new_swap = 0\n",
    "\n",
    "for t in T:\n",
    "    p_new_swap += (1/(1+y_swap)**t)*c_swap\n",
    "p_new_swap += (1/(1+y_swap)**59)*(c_swap+100)\n",
    "\n",
    "print(f\"New price of the Swap: {p_new_swap:.2f}\")\n",
    "print(f\"Profit: {-(p_new_swap - data.loc['Swap_Fixed', 'Price']):.2f}\")"
   ]
  },
  {
   "cell_type": "markdown",
   "id": "7fba6574",
   "metadata": {},
   "source": [
    "## 1.6\n",
    "\n",
    "Accounting for the change in value of the positions, as well as the 6-month cashflows paid on May 4, \n",
    "* what is the net profit and loss (pnl) of the position?\n",
    "* what is the return on the equity capital, considering that there was a 2\\% haircut (equity contribution) on the size of the initial treasury bond position."
   ]
  },
  {
   "cell_type": "code",
   "execution_count": 11,
   "id": "e6476205",
   "metadata": {},
   "outputs": [
    {
     "name": "stdout",
     "output_type": "stream",
     "text": [
      "Net cash flow from coupons: 47,500.00\n"
     ]
    }
   ],
   "source": [
    "coupons_cash_flows = position_bond * c/100 + position_swap * c_swap/100\n",
    "print(f\"Net cash flow from coupons: {coupons_cash_flows:,.2f}\")"
   ]
  },
  {
   "cell_type": "code",
   "execution_count": 12,
   "id": "abae3de0",
   "metadata": {},
   "outputs": [
    {
     "name": "stdout",
     "output_type": "stream",
     "text": [
      "Price change: -28,117,692.87\n"
     ]
    }
   ],
   "source": [
    "price_change = (position_bond/p * (p_new - p)) + position_swap * (p_new_swap - 100)/100\n",
    "print(f\"Price change: {price_change:,.2f}\")"
   ]
  },
  {
   "cell_type": "code",
   "execution_count": 13,
   "id": "e1ffd636",
   "metadata": {},
   "outputs": [
    {
     "name": "stdout",
     "output_type": "stream",
     "text": [
      "Total PnL: -28,070,192.87\n"
     ]
    }
   ],
   "source": [
    "total_pnl = coupons_cash_flows + price_change\n",
    "print(f\"Total PnL: {total_pnl:,.2f}\")\n"
   ]
  },
  {
   "cell_type": "code",
   "execution_count": 14,
   "id": "fa4c311e",
   "metadata": {},
   "outputs": [
    {
     "name": "stdout",
     "output_type": "stream",
     "text": [
      "Return on Capital: -2.81%\n"
     ]
    }
   ],
   "source": [
    "print(f\"Return on Capital: {total_pnl/(position_bond*p*haircut):.2%}\")"
   ]
  },
  {
   "cell_type": "markdown",
   "id": "948c9706",
   "metadata": {},
   "source": [
    "***"
   ]
  },
  {
   "cell_type": "markdown",
   "id": "633edb93",
   "metadata": {},
   "source": [
    "# 2. Factor Duration"
   ]
  },
  {
   "cell_type": "markdown",
   "id": "0f6e4aa6",
   "metadata": {},
   "source": [
    "### Data\n",
    "\n",
    "This problem uses data from,\n",
    "* `/data/yields.xlsx`\n",
    "* `/data/treasury_ts_duration_2024-10-31.xlsx`"
   ]
  },
  {
   "cell_type": "markdown",
   "id": "6127c1e5",
   "metadata": {},
   "source": [
    "#### Load Yields"
   ]
  },
  {
   "cell_type": "code",
   "execution_count": 15,
   "id": "69fbc7c2",
   "metadata": {},
   "outputs": [
    {
     "data": {
      "text/html": [
       "<div>\n",
       "<style scoped>\n",
       "    .dataframe tbody tr th:only-of-type {\n",
       "        vertical-align: middle;\n",
       "    }\n",
       "\n",
       "    .dataframe tbody tr th {\n",
       "        vertical-align: top;\n",
       "    }\n",
       "\n",
       "    .dataframe thead th {\n",
       "        text-align: right;\n",
       "    }\n",
       "</style>\n",
       "<table border=\"1\" class=\"dataframe\">\n",
       "  <thead>\n",
       "    <tr style=\"text-align: right;\">\n",
       "      <th></th>\n",
       "      <th>1</th>\n",
       "      <th>2</th>\n",
       "      <th>5</th>\n",
       "      <th>7</th>\n",
       "      <th>10</th>\n",
       "      <th>20</th>\n",
       "      <th>30</th>\n",
       "    </tr>\n",
       "    <tr>\n",
       "      <th>caldt</th>\n",
       "      <th></th>\n",
       "      <th></th>\n",
       "      <th></th>\n",
       "      <th></th>\n",
       "      <th></th>\n",
       "      <th></th>\n",
       "      <th></th>\n",
       "    </tr>\n",
       "  </thead>\n",
       "  <tbody>\n",
       "    <tr>\n",
       "      <th>1961-06-14</th>\n",
       "      <td>2.935907</td>\n",
       "      <td>3.360687</td>\n",
       "      <td>3.623677</td>\n",
       "      <td>3.768720</td>\n",
       "      <td>3.818819</td>\n",
       "      <td>3.814210</td>\n",
       "      <td>3.815172</td>\n",
       "    </tr>\n",
       "    <tr>\n",
       "      <th>1961-06-15</th>\n",
       "      <td>2.932936</td>\n",
       "      <td>3.376460</td>\n",
       "      <td>3.671691</td>\n",
       "      <td>3.804225</td>\n",
       "      <td>3.862987</td>\n",
       "      <td>3.828220</td>\n",
       "      <td>3.826316</td>\n",
       "    </tr>\n",
       "    <tr>\n",
       "      <th>1961-06-16</th>\n",
       "      <td>2.929949</td>\n",
       "      <td>3.375670</td>\n",
       "      <td>3.685431</td>\n",
       "      <td>3.804216</td>\n",
       "      <td>3.863282</td>\n",
       "      <td>3.832922</td>\n",
       "      <td>3.830049</td>\n",
       "    </tr>\n",
       "    <tr>\n",
       "      <th>1961-06-19</th>\n",
       "      <td>2.920884</td>\n",
       "      <td>3.389970</td>\n",
       "      <td>3.712984</td>\n",
       "      <td>3.824557</td>\n",
       "      <td>3.886205</td>\n",
       "      <td>3.842378</td>\n",
       "      <td>3.837543</td>\n",
       "    </tr>\n",
       "    <tr>\n",
       "      <th>1961-06-20</th>\n",
       "      <td>2.952419</td>\n",
       "      <td>3.355796</td>\n",
       "      <td>3.685391</td>\n",
       "      <td>3.809274</td>\n",
       "      <td>3.886506</td>\n",
       "      <td>3.856465</td>\n",
       "      <td>3.845018</td>\n",
       "    </tr>\n",
       "  </tbody>\n",
       "</table>\n",
       "</div>"
      ],
      "text/plain": [
       "                   1         2         5         7        10        20  \\\n",
       "caldt                                                                    \n",
       "1961-06-14  2.935907  3.360687  3.623677  3.768720  3.818819  3.814210   \n",
       "1961-06-15  2.932936  3.376460  3.671691  3.804225  3.862987  3.828220   \n",
       "1961-06-16  2.929949  3.375670  3.685431  3.804216  3.863282  3.832922   \n",
       "1961-06-19  2.920884  3.389970  3.712984  3.824557  3.886205  3.842378   \n",
       "1961-06-20  2.952419  3.355796  3.685391  3.809274  3.886506  3.856465   \n",
       "\n",
       "                  30  \n",
       "caldt                 \n",
       "1961-06-14  3.815172  \n",
       "1961-06-15  3.826316  \n",
       "1961-06-16  3.830049  \n",
       "1961-06-19  3.837543  \n",
       "1961-06-20  3.845018  "
      ]
     },
     "execution_count": 15,
     "metadata": {},
     "output_type": "execute_result"
    }
   ],
   "source": [
    "filepath = '../../data/yields.xlsx'\n",
    "yields = pd.read_excel(filepath, sheet_name='yields')\n",
    "yields.set_index('caldt',inplace=True)\n",
    "yields.head()"
   ]
  },
  {
   "cell_type": "markdown",
   "id": "de979e9a",
   "metadata": {},
   "source": [
    "#### Load Prices and Durations of Two Treasuries"
   ]
  },
  {
   "cell_type": "code",
   "execution_count": 16,
   "id": "18b846dd",
   "metadata": {},
   "outputs": [
    {
     "data": {
      "text/html": [
       "<div>\n",
       "<style scoped>\n",
       "    .dataframe tbody tr th:only-of-type {\n",
       "        vertical-align: middle;\n",
       "    }\n",
       "\n",
       "    .dataframe tbody tr th {\n",
       "        vertical-align: top;\n",
       "    }\n",
       "\n",
       "    .dataframe thead th {\n",
       "        text-align: right;\n",
       "    }\n",
       "</style>\n",
       "<table border=\"1\" class=\"dataframe\">\n",
       "  <thead>\n",
       "    <tr style=\"text-align: right;\">\n",
       "      <th></th>\n",
       "      <th>type</th>\n",
       "      <th>issue date</th>\n",
       "      <th>maturity date</th>\n",
       "      <th>cpn rate</th>\n",
       "    </tr>\n",
       "    <tr>\n",
       "      <th>KYTREASNO</th>\n",
       "      <th></th>\n",
       "      <th></th>\n",
       "      <th></th>\n",
       "      <th></th>\n",
       "    </tr>\n",
       "  </thead>\n",
       "  <tbody>\n",
       "    <tr>\n",
       "      <th>207391</th>\n",
       "      <td>note</td>\n",
       "      <td>2019-08-15</td>\n",
       "      <td>2029-08-15</td>\n",
       "      <td>1.625</td>\n",
       "    </tr>\n",
       "    <tr>\n",
       "      <th>207392</th>\n",
       "      <td>bond</td>\n",
       "      <td>2019-08-15</td>\n",
       "      <td>2049-08-15</td>\n",
       "      <td>2.250</td>\n",
       "    </tr>\n",
       "  </tbody>\n",
       "</table>\n",
       "</div>"
      ],
      "text/plain": [
       "           type issue date maturity date  cpn rate\n",
       "KYTREASNO                                         \n",
       "207391     note 2019-08-15    2029-08-15     1.625\n",
       "207392     bond 2019-08-15    2049-08-15     2.250"
      ]
     },
     "execution_count": 16,
     "metadata": {},
     "output_type": "execute_result"
    }
   ],
   "source": [
    "QUOTE_DATE = '2024-10-31'\n",
    "filepath = f'../../data/treasury_ts_duration_{QUOTE_DATE}.xlsx'\n",
    "\n",
    "data = pd.read_excel(filepath,sheet_name='database')\n",
    "data_info =  data.drop_duplicates(subset='KYTREASNO', keep='first').set_index('KYTREASNO')\n",
    "data_info[['type','issue date','maturity date','cpn rate']]"
   ]
  },
  {
   "cell_type": "markdown",
   "id": "28e8f46c",
   "metadata": {},
   "source": [
    "You will largely focus on the sheets which give the timeseries of prices and durations for each of the two securities, as shown in the following code."
   ]
  },
  {
   "cell_type": "code",
   "execution_count": 17,
   "id": "8724ba0a",
   "metadata": {},
   "outputs": [],
   "source": [
    "SHEET_PRICE = 'price'\n",
    "SHEET_DURATION = 'duration'\n",
    "INDEX_NAME = 'quote date'\n",
    "\n",
    "price = pd.read_excel(filepath,sheet_name=SHEET_PRICE).set_index(INDEX_NAME)\n",
    "duration = pd.read_excel(filepath,sheet_name=SHEET_DURATION).set_index(INDEX_NAME)"
   ]
  },
  {
   "cell_type": "markdown",
   "id": "08fd667b",
   "metadata": {},
   "source": [
    "### 2.1.\n",
    "\n",
    "Construct the following yield-curve factors from the `yields` data set:\n",
    "\n",
    "$\\begin{align}\n",
    "x^{\\text{level}}_t =& \\frac{1}{N_{\\text{yields}}}\\sum_{i=1}^{N_{\\text{yields}}} y^{(i)}_t\\\\\n",
    "x^{\\text{slope}}_t =& y^{(30)}_t - y^{(1)}_t\\\\\n",
    "x^{\\text{curvature}}_t =& -y^{(1)}_t + 2 y^{(10)}_t - y^{(30)}_t\n",
    "\\end{align}$"
   ]
  },
  {
   "cell_type": "code",
   "execution_count": 18,
   "id": "fa5ffa99",
   "metadata": {},
   "outputs": [
    {
     "data": {
      "text/html": [
       "<div>\n",
       "<style scoped>\n",
       "    .dataframe tbody tr th:only-of-type {\n",
       "        vertical-align: middle;\n",
       "    }\n",
       "\n",
       "    .dataframe tbody tr th {\n",
       "        vertical-align: top;\n",
       "    }\n",
       "\n",
       "    .dataframe thead th {\n",
       "        text-align: right;\n",
       "    }\n",
       "</style>\n",
       "<table border=\"1\" class=\"dataframe\">\n",
       "  <thead>\n",
       "    <tr style=\"text-align: right;\">\n",
       "      <th></th>\n",
       "      <th>1</th>\n",
       "      <th>2</th>\n",
       "      <th>5</th>\n",
       "      <th>7</th>\n",
       "      <th>10</th>\n",
       "      <th>20</th>\n",
       "      <th>30</th>\n",
       "      <th>Level</th>\n",
       "      <th>Slope</th>\n",
       "      <th>Curvature</th>\n",
       "    </tr>\n",
       "    <tr>\n",
       "      <th>caldt</th>\n",
       "      <th></th>\n",
       "      <th></th>\n",
       "      <th></th>\n",
       "      <th></th>\n",
       "      <th></th>\n",
       "      <th></th>\n",
       "      <th></th>\n",
       "      <th></th>\n",
       "      <th></th>\n",
       "      <th></th>\n",
       "    </tr>\n",
       "  </thead>\n",
       "  <tbody>\n",
       "    <tr>\n",
       "      <th>1961-06-14</th>\n",
       "      <td>2.935907</td>\n",
       "      <td>3.360687</td>\n",
       "      <td>3.623677</td>\n",
       "      <td>3.768720</td>\n",
       "      <td>3.818819</td>\n",
       "      <td>3.814210</td>\n",
       "      <td>3.815172</td>\n",
       "      <td>3.591027</td>\n",
       "      <td>0.879264</td>\n",
       "      <td>0.886559</td>\n",
       "    </tr>\n",
       "    <tr>\n",
       "      <th>1961-06-15</th>\n",
       "      <td>2.932936</td>\n",
       "      <td>3.376460</td>\n",
       "      <td>3.671691</td>\n",
       "      <td>3.804225</td>\n",
       "      <td>3.862987</td>\n",
       "      <td>3.828220</td>\n",
       "      <td>3.826316</td>\n",
       "      <td>3.614691</td>\n",
       "      <td>0.893380</td>\n",
       "      <td>0.966721</td>\n",
       "    </tr>\n",
       "    <tr>\n",
       "      <th>1961-06-16</th>\n",
       "      <td>2.929949</td>\n",
       "      <td>3.375670</td>\n",
       "      <td>3.685431</td>\n",
       "      <td>3.804216</td>\n",
       "      <td>3.863282</td>\n",
       "      <td>3.832922</td>\n",
       "      <td>3.830049</td>\n",
       "      <td>3.617360</td>\n",
       "      <td>0.900101</td>\n",
       "      <td>0.966566</td>\n",
       "    </tr>\n",
       "    <tr>\n",
       "      <th>1961-06-19</th>\n",
       "      <td>2.920884</td>\n",
       "      <td>3.389970</td>\n",
       "      <td>3.712984</td>\n",
       "      <td>3.824557</td>\n",
       "      <td>3.886205</td>\n",
       "      <td>3.842378</td>\n",
       "      <td>3.837543</td>\n",
       "      <td>3.630646</td>\n",
       "      <td>0.916659</td>\n",
       "      <td>1.013983</td>\n",
       "    </tr>\n",
       "    <tr>\n",
       "      <th>1961-06-20</th>\n",
       "      <td>2.952419</td>\n",
       "      <td>3.355796</td>\n",
       "      <td>3.685391</td>\n",
       "      <td>3.809274</td>\n",
       "      <td>3.886506</td>\n",
       "      <td>3.856465</td>\n",
       "      <td>3.845018</td>\n",
       "      <td>3.627267</td>\n",
       "      <td>0.892599</td>\n",
       "      <td>0.975574</td>\n",
       "    </tr>\n",
       "  </tbody>\n",
       "</table>\n",
       "</div>"
      ],
      "text/plain": [
       "                   1         2         5         7        10        20  \\\n",
       "caldt                                                                    \n",
       "1961-06-14  2.935907  3.360687  3.623677  3.768720  3.818819  3.814210   \n",
       "1961-06-15  2.932936  3.376460  3.671691  3.804225  3.862987  3.828220   \n",
       "1961-06-16  2.929949  3.375670  3.685431  3.804216  3.863282  3.832922   \n",
       "1961-06-19  2.920884  3.389970  3.712984  3.824557  3.886205  3.842378   \n",
       "1961-06-20  2.952419  3.355796  3.685391  3.809274  3.886506  3.856465   \n",
       "\n",
       "                  30     Level     Slope  Curvature  \n",
       "caldt                                                \n",
       "1961-06-14  3.815172  3.591027  0.879264   0.886559  \n",
       "1961-06-15  3.826316  3.614691  0.893380   0.966721  \n",
       "1961-06-16  3.830049  3.617360  0.900101   0.966566  \n",
       "1961-06-19  3.837543  3.630646  0.916659   1.013983  \n",
       "1961-06-20  3.845018  3.627267  0.892599   0.975574  "
      ]
     },
     "execution_count": 18,
     "metadata": {},
     "output_type": "execute_result"
    }
   ],
   "source": [
    "yields[\"Level\"] = yields.mean(axis=1)\n",
    "yields[\"Slope\"] = yields[30] - yields[1]\n",
    "yields[\"Curvature\"] = -yields[1] + 2*yields[10] - yields[30] \n",
    "\n",
    "yields.head()"
   ]
  },
  {
   "cell_type": "markdown",
   "id": "42d3a537",
   "metadata": {},
   "source": [
    "### 2.2\n",
    "\n",
    "Get the bond prices and durations for the two bonds in the data set referenced above.\n",
    "\n",
    "#### Align the data\n",
    "\n",
    "Align the bond pricing data with the yield factor data, so that you have data for both in the intersection of their dates.\n",
    "\n",
    "\n",
    "#### Estimate the regression\n",
    "\n",
    "Estimate the regression in the form of day-over-day differences for both bond prices and factors. That is, we are using regression to approximate the factor duration equation,\n",
    "\n",
    "$\\begin{align}\n",
    "\\frac{dP}{P} = \\alpha + \\beta_L dx_{\\text{level}} + \\beta_S dx_{\\text{slope}} + \\beta_C dx_{\\text{curvature}} + \\epsilon\n",
    "\\end{align}$\n",
    "\n",
    "Report the betas for each of these factors, for each of the bond prices."
   ]
  },
  {
   "cell_type": "code",
   "execution_count": 19,
   "id": "0b110fd5",
   "metadata": {},
   "outputs": [],
   "source": [
    "data = pd.merge(duration, price, left_index=True, right_index=True, how='inner', suffixes=('_duration', '_price'))\n",
    "data[[\"207391_price\", \"207392_price\"]] = data[[\"207391_price\", \"207392_price\"]].pct_change()\n",
    "data = pd.merge(data, yields[[\"Level\", \"Slope\", \"Curvature\"]], left_index=True, right_index=True, how='left')\n",
    "data[[\"Level\", \"Slope\", \"Curvature\"]] =  data[[\"Level\", \"Slope\", \"Curvature\"]].diff()\n",
    "data.dropna(inplace=True)"
   ]
  },
  {
   "cell_type": "code",
   "execution_count": 23,
   "id": "aecc3a44",
   "metadata": {},
   "outputs": [
    {
     "data": {
      "text/plain": [
       "const        0.000064\n",
       "Level       -0.069938\n",
       "Slope       -0.004759\n",
       "Curvature   -0.010926\n",
       "dtype: float64"
      ]
     },
     "execution_count": 23,
     "metadata": {},
     "output_type": "execute_result"
    }
   ],
   "source": [
    "import statsmodels.api as sm\n",
    "\n",
    "X = data[[\"Level\", \"Slope\", \"Curvature\"]]\n",
    "X = sm.add_constant(X)\n",
    "y = data[\"207391_price\"]\n",
    "model = sm.OLS(y, X).fit()\n",
    "betas = model.params\n",
    "betas"
   ]
  },
  {
   "cell_type": "code",
   "execution_count": 24,
   "id": "910dfb36",
   "metadata": {},
   "outputs": [
    {
     "data": {
      "text/plain": [
       "const        0.000069\n",
       "Level       -0.197983\n",
       "Slope       -0.126491\n",
       "Curvature    0.074870\n",
       "dtype: float64"
      ]
     },
     "execution_count": 24,
     "metadata": {},
     "output_type": "execute_result"
    }
   ],
   "source": [
    "y = data[\"207392_price\"]\n",
    "model2 = sm.OLS(y, X).fit()\n",
    "betas2 = model2.params\n",
    "betas2"
   ]
  },
  {
   "cell_type": "markdown",
   "id": "4776f6e5",
   "metadata": {},
   "source": [
    "### 2.3.\n",
    "\n",
    "Compare the \"level\" factor beta for each of the two treasuries with the average  duration for each bond as reported in the data set.\n",
    "\n",
    "* How closely does the average duration for a bond compare to its \"level\" beta?\n",
    "* What do you conclude about the usefulness of mathematical duration vs regression sensitivities?"
   ]
  },
  {
   "cell_type": "code",
   "execution_count": 25,
   "id": "cba0eb65",
   "metadata": {},
   "outputs": [
    {
     "name": "stdout",
     "output_type": "stream",
     "text": [
      "Mean duration bond 207391: 6.92\n",
      "Estimated Level for bond 207391: 6.99\n",
      "Difference: -0.07\n",
      "Error estimation of Duration/Level: -1.04%\n",
      "--------------------\n",
      "Mean duration bond 207392: 19.90\n",
      "Estimated Level for bond 207392: 19.80\n",
      "Difference: 0.10\n",
      "Error estimation of Duration/Level: 0.52%\n"
     ]
    }
   ],
   "source": [
    "print(f\"Mean duration bond 207391: {data['207391_duration'].mean():.2f}\")\n",
    "print(f\"Estimated Level for bond 207391: {-betas['Level']*100:.2f}\")\n",
    "print(f\"Difference: {data['207391_duration'].mean() + betas['Level']*100:.2f}\")\n",
    "print(f\"Error estimation of Duration/Level: {(data['207391_duration'].mean() + betas['Level']*100)/data['207391_duration'].mean():.2%}\")\n",
    "print(\"--------------------\")\n",
    "print(f\"Mean duration bond 207392: {data['207392_duration'].mean():.2f}\")\n",
    "print(f\"Estimated Level for bond 207392: {-betas2['Level']*100:.2f}\")\n",
    "print(f\"Difference: {data['207392_duration'].mean() + betas2['Level']*100:.2f}\")\n",
    "print(f\"Error estimation of Duration/Level: {(data['207392_duration'].mean() + betas2['Level']*100)/data['207392_duration'].mean():.2%}\")"
   ]
  },
  {
   "cell_type": "markdown",
   "id": "defd2033",
   "metadata": {},
   "source": [
    "Even when the Level regressor is significant, the error estimation is too high. The model is not good enough to estimate the duration of the bond and since we have a closed formula to calculate the duration, we can use it to estimate the duration of the bond."
   ]
  },
  {
   "cell_type": "markdown",
   "id": "2df02787",
   "metadata": {},
   "source": [
    "### 2.4.\n",
    "\n",
    "In the duration-hedged trade of `Homework 2, Section 2`, was the that trade was long or short this slope factor? \n",
    "\n",
    "Do you think the slope factor exposure had a large impact on the trade?\n",
    "\n",
    "No new analysis needed, just draw a conclusion from the estimates above along with the trade construction in `HW 2, Sec 2`."
   ]
  },
  {
   "cell_type": "markdown",
   "id": "add5056e",
   "metadata": {},
   "source": [
    "*Answer :*\n",
    "\n",
    "- Since in HW2.Sec2 we were buying (long) bond 207391 and selling (short) bond 207392, we were \"selling\" the slope of the yield curve\n",
    "- And since the slope of this trade is large (because the price of the bond 207392 is more sensitive to the slope of the yield curve than the price of the bond 207391), in fact the slope exposure is important\n",
    "- So, we should that into account the slope exposure in our hedge construction and not only the level exposure, in order to have a better hedge"
   ]
  },
  {
   "cell_type": "markdown",
   "id": "fcabcd0c",
   "metadata": {},
   "source": [
    "***"
   ]
  },
  {
   "cell_type": "markdown",
   "id": "9168eed2",
   "metadata": {},
   "source": [
    "# 3 Calculating Duration Via Individual Cashflows\n",
    "\n",
    "## *Optional, not submitted*"
   ]
  },
  {
   "cell_type": "markdown",
   "id": "115659c9",
   "metadata": {},
   "source": [
    "Use the data file `../data/treasury_quotes_2024-10-31.xlsx`.\n",
    "\n",
    "### 3.1 \n",
    "Set up the cashflow matrix. "
   ]
  },
  {
   "cell_type": "code",
   "execution_count": 1,
   "id": "93694d3a",
   "metadata": {},
   "outputs": [],
   "source": [
    "import pandas as pd\n",
    "import numpy as np\n",
    "import Help_Functions as hf\n",
    "\n",
    "path = \"../../data/treasury_quotes_2024-10-31.xlsx\"\n",
    "quotes = pd.read_excel(path, sheet_name='quotes').set_index(\"KYTREASNO\")\n",
    "t_current = quotes['quote date'].values[0]\n",
    "\n",
    "path = \"../../data/treasury_quotes_crsp_2024-10-31.xlsx\"\n",
    "rawdata = pd.read_excel(path,sheet_name='quotes')\n",
    "rawdata.columns = rawdata.columns.str.upper()\n",
    "rawdata.sort_values('TMATDT',inplace=True)\n",
    "rawdata.set_index('KYTREASNO',inplace=True)\n",
    "\n"
   ]
  },
  {
   "cell_type": "code",
   "execution_count": 2,
   "id": "639e0341",
   "metadata": {},
   "outputs": [],
   "source": [
    "RESTRICT_YLD = True\n",
    "RESTRICT_TIPS = True\n",
    "\n",
    "RESTRICT_DTS_MATURING = False\n",
    "RESTRICT_REDUNDANT = False\n",
    "\n",
    "data = hf.filter_treasuries(quotes, t_date=t_current, filter_yld = RESTRICT_YLD, filter_tips = RESTRICT_TIPS, drop_duplicate_maturities=RESTRICT_REDUNDANT)\n",
    "CF = hf.filter_treasury_cashflows(hf.calc_cashflows(data),filter_maturity_dates=RESTRICT_DTS_MATURING)\n",
    "prices = quotes.loc[CF.index,\"dirty price\"]"
   ]
  },
  {
   "cell_type": "code",
   "execution_count": 3,
   "id": "ef187020",
   "metadata": {},
   "outputs": [
    {
     "data": {
      "text/html": [
       "<div>\n",
       "<style scoped>\n",
       "    .dataframe tbody tr th:only-of-type {\n",
       "        vertical-align: middle;\n",
       "    }\n",
       "\n",
       "    .dataframe tbody tr th {\n",
       "        vertical-align: top;\n",
       "    }\n",
       "\n",
       "    .dataframe thead th {\n",
       "        text-align: right;\n",
       "    }\n",
       "</style>\n",
       "<table border=\"1\" class=\"dataframe\">\n",
       "  <thead>\n",
       "    <tr style=\"text-align: right;\">\n",
       "      <th></th>\n",
       "      <th>2024-11-05</th>\n",
       "      <th>2024-11-07</th>\n",
       "      <th>2024-11-12</th>\n",
       "      <th>2024-11-14</th>\n",
       "      <th>2024-11-15</th>\n",
       "      <th>2024-11-19</th>\n",
       "      <th>2024-11-21</th>\n",
       "      <th>2024-11-26</th>\n",
       "      <th>2024-11-29</th>\n",
       "      <th>2024-11-30</th>\n",
       "      <th>...</th>\n",
       "      <th>2052-05-15</th>\n",
       "      <th>2052-08-15</th>\n",
       "      <th>2052-11-15</th>\n",
       "      <th>2053-02-15</th>\n",
       "      <th>2053-05-15</th>\n",
       "      <th>2053-08-15</th>\n",
       "      <th>2053-11-15</th>\n",
       "      <th>2054-02-15</th>\n",
       "      <th>2054-05-15</th>\n",
       "      <th>2054-08-15</th>\n",
       "    </tr>\n",
       "    <tr>\n",
       "      <th>KYTREASNO</th>\n",
       "      <th></th>\n",
       "      <th></th>\n",
       "      <th></th>\n",
       "      <th></th>\n",
       "      <th></th>\n",
       "      <th></th>\n",
       "      <th></th>\n",
       "      <th></th>\n",
       "      <th></th>\n",
       "      <th></th>\n",
       "      <th></th>\n",
       "      <th></th>\n",
       "      <th></th>\n",
       "      <th></th>\n",
       "      <th></th>\n",
       "      <th></th>\n",
       "      <th></th>\n",
       "      <th></th>\n",
       "      <th></th>\n",
       "      <th></th>\n",
       "      <th></th>\n",
       "    </tr>\n",
       "  </thead>\n",
       "  <tbody>\n",
       "    <tr>\n",
       "      <th>208246</th>\n",
       "      <td>100.0</td>\n",
       "      <td>0.0</td>\n",
       "      <td>0.0</td>\n",
       "      <td>0.0</td>\n",
       "      <td>0.00</td>\n",
       "      <td>0.0</td>\n",
       "      <td>0.0</td>\n",
       "      <td>0.0</td>\n",
       "      <td>0.0</td>\n",
       "      <td>0.0</td>\n",
       "      <td>...</td>\n",
       "      <td>0.0</td>\n",
       "      <td>0.0</td>\n",
       "      <td>0.0</td>\n",
       "      <td>0.0</td>\n",
       "      <td>0.0</td>\n",
       "      <td>0.0</td>\n",
       "      <td>0.0</td>\n",
       "      <td>0.0</td>\n",
       "      <td>0.0</td>\n",
       "      <td>0.0</td>\n",
       "    </tr>\n",
       "    <tr>\n",
       "      <th>208222</th>\n",
       "      <td>0.0</td>\n",
       "      <td>100.0</td>\n",
       "      <td>0.0</td>\n",
       "      <td>0.0</td>\n",
       "      <td>0.00</td>\n",
       "      <td>0.0</td>\n",
       "      <td>0.0</td>\n",
       "      <td>0.0</td>\n",
       "      <td>0.0</td>\n",
       "      <td>0.0</td>\n",
       "      <td>...</td>\n",
       "      <td>0.0</td>\n",
       "      <td>0.0</td>\n",
       "      <td>0.0</td>\n",
       "      <td>0.0</td>\n",
       "      <td>0.0</td>\n",
       "      <td>0.0</td>\n",
       "      <td>0.0</td>\n",
       "      <td>0.0</td>\n",
       "      <td>0.0</td>\n",
       "      <td>0.0</td>\n",
       "    </tr>\n",
       "    <tr>\n",
       "      <th>208247</th>\n",
       "      <td>0.0</td>\n",
       "      <td>0.0</td>\n",
       "      <td>100.0</td>\n",
       "      <td>0.0</td>\n",
       "      <td>0.00</td>\n",
       "      <td>0.0</td>\n",
       "      <td>0.0</td>\n",
       "      <td>0.0</td>\n",
       "      <td>0.0</td>\n",
       "      <td>0.0</td>\n",
       "      <td>...</td>\n",
       "      <td>0.0</td>\n",
       "      <td>0.0</td>\n",
       "      <td>0.0</td>\n",
       "      <td>0.0</td>\n",
       "      <td>0.0</td>\n",
       "      <td>0.0</td>\n",
       "      <td>0.0</td>\n",
       "      <td>0.0</td>\n",
       "      <td>0.0</td>\n",
       "      <td>0.0</td>\n",
       "    </tr>\n",
       "    <tr>\n",
       "      <th>208223</th>\n",
       "      <td>0.0</td>\n",
       "      <td>0.0</td>\n",
       "      <td>0.0</td>\n",
       "      <td>100.0</td>\n",
       "      <td>0.00</td>\n",
       "      <td>0.0</td>\n",
       "      <td>0.0</td>\n",
       "      <td>0.0</td>\n",
       "      <td>0.0</td>\n",
       "      <td>0.0</td>\n",
       "      <td>...</td>\n",
       "      <td>0.0</td>\n",
       "      <td>0.0</td>\n",
       "      <td>0.0</td>\n",
       "      <td>0.0</td>\n",
       "      <td>0.0</td>\n",
       "      <td>0.0</td>\n",
       "      <td>0.0</td>\n",
       "      <td>0.0</td>\n",
       "      <td>0.0</td>\n",
       "      <td>0.0</td>\n",
       "    </tr>\n",
       "    <tr>\n",
       "      <th>204083</th>\n",
       "      <td>0.0</td>\n",
       "      <td>0.0</td>\n",
       "      <td>0.0</td>\n",
       "      <td>0.0</td>\n",
       "      <td>103.75</td>\n",
       "      <td>0.0</td>\n",
       "      <td>0.0</td>\n",
       "      <td>0.0</td>\n",
       "      <td>0.0</td>\n",
       "      <td>0.0</td>\n",
       "      <td>...</td>\n",
       "      <td>0.0</td>\n",
       "      <td>0.0</td>\n",
       "      <td>0.0</td>\n",
       "      <td>0.0</td>\n",
       "      <td>0.0</td>\n",
       "      <td>0.0</td>\n",
       "      <td>0.0</td>\n",
       "      <td>0.0</td>\n",
       "      <td>0.0</td>\n",
       "      <td>0.0</td>\n",
       "    </tr>\n",
       "  </tbody>\n",
       "</table>\n",
       "<p>5 rows × 310 columns</p>\n",
       "</div>"
      ],
      "text/plain": [
       "           2024-11-05  2024-11-07  2024-11-12  2024-11-14  2024-11-15  \\\n",
       "KYTREASNO                                                               \n",
       "208246          100.0         0.0         0.0         0.0        0.00   \n",
       "208222            0.0       100.0         0.0         0.0        0.00   \n",
       "208247            0.0         0.0       100.0         0.0        0.00   \n",
       "208223            0.0         0.0         0.0       100.0        0.00   \n",
       "204083            0.0         0.0         0.0         0.0      103.75   \n",
       "\n",
       "           2024-11-19  2024-11-21  2024-11-26  2024-11-29  2024-11-30  ...  \\\n",
       "KYTREASNO                                                              ...   \n",
       "208246            0.0         0.0         0.0         0.0         0.0  ...   \n",
       "208222            0.0         0.0         0.0         0.0         0.0  ...   \n",
       "208247            0.0         0.0         0.0         0.0         0.0  ...   \n",
       "208223            0.0         0.0         0.0         0.0         0.0  ...   \n",
       "204083            0.0         0.0         0.0         0.0         0.0  ...   \n",
       "\n",
       "           2052-05-15  2052-08-15  2052-11-15  2053-02-15  2053-05-15  \\\n",
       "KYTREASNO                                                               \n",
       "208246            0.0         0.0         0.0         0.0         0.0   \n",
       "208222            0.0         0.0         0.0         0.0         0.0   \n",
       "208247            0.0         0.0         0.0         0.0         0.0   \n",
       "208223            0.0         0.0         0.0         0.0         0.0   \n",
       "204083            0.0         0.0         0.0         0.0         0.0   \n",
       "\n",
       "           2053-08-15  2053-11-15  2054-02-15  2054-05-15  2054-08-15  \n",
       "KYTREASNO                                                              \n",
       "208246            0.0         0.0         0.0         0.0         0.0  \n",
       "208222            0.0         0.0         0.0         0.0         0.0  \n",
       "208247            0.0         0.0         0.0         0.0         0.0  \n",
       "208223            0.0         0.0         0.0         0.0         0.0  \n",
       "204083            0.0         0.0         0.0         0.0         0.0  \n",
       "\n",
       "[5 rows x 310 columns]"
      ]
     },
     "metadata": {},
     "output_type": "display_data"
    }
   ],
   "source": [
    "display(CF.head())  "
   ]
  },
  {
   "cell_type": "markdown",
   "id": "fb0795cf",
   "metadata": {},
   "source": [
    "### 3.2\n",
    "Extract the Nelson-Siegel spot discount curve, as you did in `Homework 1`."
   ]
  },
  {
   "cell_type": "code",
   "execution_count": 4,
   "id": "81c35a89",
   "metadata": {},
   "outputs": [
    {
     "data": {
      "text/html": [
       "<div>\n",
       "<style scoped>\n",
       "    .dataframe tbody tr th:only-of-type {\n",
       "        vertical-align: middle;\n",
       "    }\n",
       "\n",
       "    .dataframe tbody tr th {\n",
       "        vertical-align: top;\n",
       "    }\n",
       "\n",
       "    .dataframe thead th {\n",
       "        text-align: right;\n",
       "    }\n",
       "</style>\n",
       "<table border=\"1\" class=\"dataframe\">\n",
       "  <thead>\n",
       "    <tr style=\"text-align: right;\">\n",
       "      <th></th>\n",
       "      <th>theta 0</th>\n",
       "      <th>theta 1</th>\n",
       "      <th>theta 2</th>\n",
       "      <th>lambda_1</th>\n",
       "      <th>theta_3</th>\n",
       "      <th>lambda_2</th>\n",
       "    </tr>\n",
       "  </thead>\n",
       "  <tbody>\n",
       "    <tr>\n",
       "      <th>Nelson-Siegel</th>\n",
       "      <td>0.04789</td>\n",
       "      <td>-0.002237</td>\n",
       "      <td>-0.020374</td>\n",
       "      <td>2.126947</td>\n",
       "      <td>None</td>\n",
       "      <td>None</td>\n",
       "    </tr>\n",
       "    <tr>\n",
       "      <th>Nelson-Siegel Extended</th>\n",
       "      <td>0.047856</td>\n",
       "      <td>-0.003926</td>\n",
       "      <td>-0.838928</td>\n",
       "      <td>1.613879</td>\n",
       "      <td>0.821665</td>\n",
       "      <td>1.598023</td>\n",
       "    </tr>\n",
       "  </tbody>\n",
       "</table>\n",
       "</div>"
      ],
      "text/plain": [
       "                         theta 0   theta 1   theta 2  lambda_1   theta_3  \\\n",
       "Nelson-Siegel            0.04789 -0.002237 -0.020374  2.126947      None   \n",
       "Nelson-Siegel Extended  0.047856 -0.003926 -0.838928  1.613879  0.821665   \n",
       "\n",
       "                        lambda_2  \n",
       "Nelson-Siegel               None  \n",
       "Nelson-Siegel Extended  1.598023  "
      ]
     },
     "metadata": {},
     "output_type": "display_data"
    }
   ],
   "source": [
    "AVG_LEVEL = .045\n",
    "AVG_SLOPE = -.005\n",
    "FIRST_HUMP = .01\n",
    "FIRST_DECAY = 2\n",
    "SECOND_HUMP = -.01\n",
    "SECOND_DECAY = 2\n",
    "\n",
    "x0 = np.array([AVG_LEVEL, AVG_SLOPE, FIRST_HUMP, FIRST_DECAY])\n",
    "\n",
    "res = hf.estimate_nelson_siegel_models(CF = CF, t_current = t_current, prices = prices, x0_ns = x0, x0_nse=np.array([SECOND_HUMP, SECOND_DECAY]), return_modeled_prices = True)\n",
    "display(res[\"params\"])\n",
    "\n",
    "\n",
    "DF_ns = res['DF_ns']\n",
    "DF_nse = res['DF_nse']\n",
    "\n",
    "\n",
    "DF_ns[\"Continuously_Rate\"] = -np.log(DF_ns[\"Discount Factor\"])/DF_ns.index\n",
    "DF_ns[\"SemiAnual_Rate_NS\"] = hf.compound_rate(DF_ns[\"Continuously_Rate\"],None,2)\n",
    "\n",
    "DF_nse[\"Continuously_Rate\"] = -np.log(DF_nse[\"Discount Factor\"])/DF_nse.index\n",
    "DF_nse[\"SemiAnual_Rate_NSE\"] = hf.compound_rate(DF_nse[\"Continuously_Rate\"],None,2)"
   ]
  },
  {
   "cell_type": "code",
   "execution_count": 5,
   "id": "d94778b6",
   "metadata": {},
   "outputs": [
    {
     "data": {
      "image/png": "[encoded data removed]",
      "text/plain": [
       "<Figure size 1000x800 with 2 Axes>"
      ]
     },
     "metadata": {},
     "output_type": "display_data"
    }
   ],
   "source": [
    "import matplotlib.pyplot as plt\n",
    "fig,ax = plt.subplots(2,1,figsize=(10,8))\n",
    "DF_ns['Discount Factor'].plot(ax=ax[0],title='discount factor');\n",
    "DF_ns['SemiAnual_Rate_NS'].plot(ax=ax[1],title = 'discount rate');\n",
    "plt.tight_layout()"
   ]
  },
  {
   "cell_type": "markdown",
   "id": "5b138fbe",
   "metadata": {},
   "source": [
    "### 3.3\n",
    "For each treasury issue, calculate the duration as the weighted average of the (discounted!) cashflow maturity.\n",
    "\n",
    "Report the summary statistics of the durations. (Use `.describe()` from pandas.)"
   ]
  },
  {
   "cell_type": "code",
   "execution_count": 6,
   "id": "5d7f3365",
   "metadata": {},
   "outputs": [
    {
     "data": {
      "text/html": [
       "<div>\n",
       "<style scoped>\n",
       "    .dataframe tbody tr th:only-of-type {\n",
       "        vertical-align: middle;\n",
       "    }\n",
       "\n",
       "    .dataframe tbody tr th {\n",
       "        vertical-align: top;\n",
       "    }\n",
       "\n",
       "    .dataframe thead th {\n",
       "        text-align: right;\n",
       "    }\n",
       "</style>\n",
       "<table border=\"1\" class=\"dataframe\">\n",
       "  <thead>\n",
       "    <tr style=\"text-align: right;\">\n",
       "      <th></th>\n",
       "      <th>Duration</th>\n",
       "    </tr>\n",
       "  </thead>\n",
       "  <tbody>\n",
       "    <tr>\n",
       "      <th>count</th>\n",
       "      <td>395.000000</td>\n",
       "    </tr>\n",
       "    <tr>\n",
       "      <th>mean</th>\n",
       "      <td>4.945647</td>\n",
       "    </tr>\n",
       "    <tr>\n",
       "      <th>std</th>\n",
       "      <td>5.350579</td>\n",
       "    </tr>\n",
       "    <tr>\n",
       "      <th>min</th>\n",
       "      <td>0.013689</td>\n",
       "    </tr>\n",
       "    <tr>\n",
       "      <th>25%</th>\n",
       "      <td>0.910377</td>\n",
       "    </tr>\n",
       "    <tr>\n",
       "      <th>50%</th>\n",
       "      <td>2.765600</td>\n",
       "    </tr>\n",
       "    <tr>\n",
       "      <th>75%</th>\n",
       "      <td>6.308805</td>\n",
       "    </tr>\n",
       "    <tr>\n",
       "      <th>max</th>\n",
       "      <td>19.624963</td>\n",
       "    </tr>\n",
       "  </tbody>\n",
       "</table>\n",
       "</div>"
      ],
      "text/plain": [
       "         Duration\n",
       "count  395.000000\n",
       "mean     4.945647\n",
       "std      5.350579\n",
       "min      0.013689\n",
       "25%      0.910377\n",
       "50%      2.765600\n",
       "75%      6.308805\n",
       "max     19.624963"
      ]
     },
     "execution_count": 6,
     "metadata": {},
     "output_type": "execute_result"
    }
   ],
   "source": [
    "wts = CF.mul(DF_ns['Discount Factor'].values,axis=1)\n",
    "wts = wts.div(wts.sum(axis=1),axis=0)\n",
    "duration = pd.DataFrame(wts @ DF_ns.index, index=wts.index, columns=[\"Duration\"])\n",
    "duration.describe()"
   ]
  },
  {
   "cell_type": "markdown",
   "id": "5559d1a0",
   "metadata": {},
   "source": [
    "### 3.4\n",
    "How close are your duration estimates to the imputed durations given in the data source?\n",
    "\n",
    "Report the summary statistics of the imputed durations minus your calculated durations from above."
   ]
  },
  {
   "cell_type": "code",
   "execution_count": 9,
   "id": "b3cdd82f",
   "metadata": {},
   "outputs": [],
   "source": [
    "duration['errors'] = (rawdata['TDDURATN']/365.25  - duration['Duration']).abs()"
   ]
  },
  {
   "cell_type": "code",
   "execution_count": 10,
   "id": "127de1d7",
   "metadata": {},
   "outputs": [
    {
     "data": {
      "text/plain": [
       "count    395.000000\n",
       "mean       0.017318\n",
       "std        0.047710\n",
       "min        0.000000\n",
       "25%        0.000003\n",
       "50%        0.000090\n",
       "75%        0.002006\n",
       "max        0.305838\n",
       "Name: errors, dtype: float64"
      ]
     },
     "execution_count": 10,
     "metadata": {},
     "output_type": "execute_result"
    }
   ],
   "source": [
    "duration['errors'].describe()"
   ]
  },
  {
   "cell_type": "markdown",
   "id": "e767dbd6",
   "metadata": {},
   "source": [
    "### 3.5\n",
    "Continue using your assumed discount rates of `4.5`\\% to calculate the convexity of each issue.\n",
    "\n",
    "Report the summary statistics of these convexity calculations."
   ]
  },
  {
   "cell_type": "code",
   "execution_count": 43,
   "id": "13dfc0c1",
   "metadata": {},
   "outputs": [],
   "source": [
    "duration['convexity'] = wts @ (DF_ns.index)**2"
   ]
  },
  {
   "cell_type": "code",
   "execution_count": 44,
   "id": "9510b3dd",
   "metadata": {},
   "outputs": [
    {
     "data": {
      "text/html": [
       "<div>\n",
       "<style scoped>\n",
       "    .dataframe tbody tr th:only-of-type {\n",
       "        vertical-align: middle;\n",
       "    }\n",
       "\n",
       "    .dataframe tbody tr th {\n",
       "        vertical-align: top;\n",
       "    }\n",
       "\n",
       "    .dataframe thead th {\n",
       "        text-align: right;\n",
       "    }\n",
       "</style>\n",
       "<table border=\"1\" class=\"dataframe\">\n",
       "  <thead>\n",
       "    <tr style=\"text-align: right;\">\n",
       "      <th></th>\n",
       "      <th>Duration</th>\n",
       "      <th>errors</th>\n",
       "      <th>convexity</th>\n",
       "    </tr>\n",
       "  </thead>\n",
       "  <tbody>\n",
       "    <tr>\n",
       "      <th>count</th>\n",
       "      <td>395.000000</td>\n",
       "      <td>395.000000</td>\n",
       "      <td>395.000000</td>\n",
       "    </tr>\n",
       "    <tr>\n",
       "      <th>mean</th>\n",
       "      <td>4.945647</td>\n",
       "      <td>0.017318</td>\n",
       "      <td>65.508051</td>\n",
       "    </tr>\n",
       "    <tr>\n",
       "      <th>std</th>\n",
       "      <td>5.350579</td>\n",
       "      <td>0.047710</td>\n",
       "      <td>115.053633</td>\n",
       "    </tr>\n",
       "    <tr>\n",
       "      <th>min</th>\n",
       "      <td>0.013689</td>\n",
       "      <td>0.000000</td>\n",
       "      <td>0.000187</td>\n",
       "    </tr>\n",
       "    <tr>\n",
       "      <th>25%</th>\n",
       "      <td>0.910377</td>\n",
       "      <td>0.000003</td>\n",
       "      <td>0.830817</td>\n",
       "    </tr>\n",
       "    <tr>\n",
       "      <th>50%</th>\n",
       "      <td>2.765600</td>\n",
       "      <td>0.000090</td>\n",
       "      <td>7.938260</td>\n",
       "    </tr>\n",
       "    <tr>\n",
       "      <th>75%</th>\n",
       "      <td>6.308805</td>\n",
       "      <td>0.002006</td>\n",
       "      <td>42.099827</td>\n",
       "    </tr>\n",
       "    <tr>\n",
       "      <th>max</th>\n",
       "      <td>19.624963</td>\n",
       "      <td>0.305838</td>\n",
       "      <td>460.697982</td>\n",
       "    </tr>\n",
       "  </tbody>\n",
       "</table>\n",
       "</div>"
      ],
      "text/plain": [
       "         Duration      errors   convexity\n",
       "count  395.000000  395.000000  395.000000\n",
       "mean     4.945647    0.017318   65.508051\n",
       "std      5.350579    0.047710  115.053633\n",
       "min      0.013689    0.000000    0.000187\n",
       "25%      0.910377    0.000003    0.830817\n",
       "50%      2.765600    0.000090    7.938260\n",
       "75%      6.308805    0.002006   42.099827\n",
       "max     19.624963    0.305838  460.697982"
      ]
     },
     "execution_count": 44,
     "metadata": {},
     "output_type": "execute_result"
    }
   ],
   "source": [
    "duration.describe()"
   ]
  },
  {
   "cell_type": "markdown",
   "id": "d28e865d",
   "metadata": {},
   "source": [
    "***"
   ]
  }
 ],
 "metadata": {
  "hide_input": false,
  "kernelspec": {
   "display_name": "base",
   "language": "python",
   "name": "python3"
  },
  "language_info": {
   "codemirror_mode": {
    "name": "ipython",
    "version": 3
   },
   "file_extension": ".py",
   "mimetype": "text/x-python",
   "name": "python",
   "nbconvert_exporter": "python",
   "pygments_lexer": "ipython3",
   "version": "3.12.4"
  }
 },
 "nbformat": 4,
 "nbformat_minor": 5
}
